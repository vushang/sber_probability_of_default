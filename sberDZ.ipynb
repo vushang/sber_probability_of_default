{
  "cells": [
    {
      "cell_type": "markdown",
      "metadata": {
        "id": "qb9mY_HmN913"
      },
      "source": [
        "# Домашнее задание для Junior DS по разработке PD модели"
      ]
    },
    {
      "cell_type": "markdown",
      "metadata": {
        "id": "NbqnB_V8N915"
      },
      "source": [
        "<b>Задание:</b> Необходиом разработать модель предсказания дефолта. Даны финансовые данные 32 395 компаний (выручка, активы, пассивы и т.д). Результат будет оцениваться на скрытой выборке из 200 компаний по метрике качества accuracy_score\n",
        "\n",
        "<b>Цель задания</b> научиться / показать знания в разработке моделей оценки риска - probability of default. Задание приближено к реальному, данные синтетические. Лидерборд для оценки собственного решения и геймификации процесса обучения. Первое место в лидерборде не явлется целью. Цель - правильно разарботанная модель, удовлетворяющая требованиям банковской системы. В случае возникновения вопросов, сотрудники блока Риски готовы проконсультировать и дать обратную связь на модель (телеграм чат).\n",
        "\n",
        "<b>Метрика качества</b> accuracy_score вычисляется, как ( True positive + True negative ) / Total. Если сабмит-файл, не правильного формата или неверное количество строк, метрика будет = 0."
      ]
    },
    {
      "cell_type": "markdown",
      "metadata": {
        "id": "EJ9_SMqyN916"
      },
      "source": [
        "### Импортируем библиотеки"
      ]
    },
    {
      "cell_type": "code",
      "execution_count": 1,
      "metadata": {
        "id": "Vo4g-4Y5N917"
      },
      "outputs": [],
      "source": [
        "import pandas as pd\n",
        "from sklearn.metrics import f1_score\n",
        "from matplotlib import pyplot as plt\n",
        "import seaborn as sns\n",
        "from sklearn.preprocessing import StandardScaler\n",
        "from sklearn.model_selection import cross_val_score\n",
        "from sklearn.model_selection import train_test_split\n",
        "from sklearn.linear_model import LogisticRegression\n",
        "from sklearn.metrics import accuracy_score"
      ]
    },
    {
      "cell_type": "markdown",
      "metadata": {
        "id": "4k8ndBMHN92A"
      },
      "source": [
        "### Подгружаем данные"
      ]
    },
    {
      "cell_type": "code",
      "execution_count": 2,
      "metadata": {
        "colab": {
          "base_uri": "https://localhost:8080/"
        },
        "id": "p6h2C5cJN92B",
        "outputId": "6637c132-ae7c-43f7-8752-849d63e114d6"
      },
      "outputs": [
        {
          "output_type": "stream",
          "name": "stdout",
          "text": [
            "--2022-09-27 15:22:47--  https://raw.githubusercontent.com/BKHV/risk_models/master/data/PD-data-train.csv\n",
            "Resolving raw.githubusercontent.com (raw.githubusercontent.com)... 185.199.108.133, 185.199.109.133, 185.199.110.133, ...\n",
            "Connecting to raw.githubusercontent.com (raw.githubusercontent.com)|185.199.108.133|:443... connected.\n",
            "HTTP request sent, awaiting response... 200 OK\n",
            "Length: 5329268 (5.1M) [text/plain]\n",
            "Saving to: ‘PD-data-train.csv’\n",
            "\n",
            "PD-data-train.csv   100%[===================>]   5.08M  --.-KB/s    in 0.08s   \n",
            "\n",
            "2022-09-27 15:22:47 (66.5 MB/s) - ‘PD-data-train.csv’ saved [5329268/5329268]\n",
            "\n",
            "--2022-09-27 15:22:47--  https://raw.githubusercontent.com/BKHV/risk_models/master/data/PD-data-test.csv\n",
            "Resolving raw.githubusercontent.com (raw.githubusercontent.com)... 185.199.111.133, 185.199.109.133, 185.199.110.133, ...\n",
            "Connecting to raw.githubusercontent.com (raw.githubusercontent.com)|185.199.111.133|:443... connected.\n",
            "HTTP request sent, awaiting response... 200 OK\n",
            "Length: 28259 (28K) [text/plain]\n",
            "Saving to: ‘PD-data-test.csv’\n",
            "\n",
            "PD-data-test.csv    100%[===================>]  27.60K  --.-KB/s    in 0.002s  \n",
            "\n",
            "2022-09-27 15:22:47 (11.9 MB/s) - ‘PD-data-test.csv’ saved [28259/28259]\n",
            "\n",
            "--2022-09-27 15:22:48--  https://raw.githubusercontent.com/BKHV/risk_models/master/data/PD-data-desc.csv\n",
            "Resolving raw.githubusercontent.com (raw.githubusercontent.com)... 185.199.108.133, 185.199.109.133, 185.199.111.133, ...\n",
            "Connecting to raw.githubusercontent.com (raw.githubusercontent.com)|185.199.108.133|:443... connected.\n",
            "HTTP request sent, awaiting response... 200 OK\n",
            "Length: 4835 (4.7K) [text/plain]\n",
            "Saving to: ‘PD-data-desc.csv’\n",
            "\n",
            "PD-data-desc.csv    100%[===================>]   4.72K  --.-KB/s    in 0s      \n",
            "\n",
            "2022-09-27 15:22:48 (65.0 MB/s) - ‘PD-data-desc.csv’ saved [4835/4835]\n",
            "\n"
          ]
        }
      ],
      "source": [
        "!wget https://raw.githubusercontent.com/BKHV/risk_models/master/data/PD-data-train.csv\n",
        "!wget https://raw.githubusercontent.com/BKHV/risk_models/master/data/PD-data-test.csv\n",
        "!wget https://raw.githubusercontent.com/BKHV/risk_models/master/data/PD-data-desc.csv"
      ]
    },
    {
      "cell_type": "code",
      "execution_count": 3,
      "metadata": {
        "id": "XwbL4T6rN92G"
      },
      "outputs": [],
      "source": [
        "train_df = pd.read_csv('PD-data-train.csv', sep=';')\n",
        "test_df = pd.read_csv('PD-data-test.csv', sep=';')\n",
        "desc_df = pd.read_csv('PD-data-desc.csv', sep=';')"
      ]
    },
    {
      "cell_type": "markdown",
      "metadata": {
        "id": "PQgDXmx-QPs_"
      },
      "source": [
        "Описание данных"
      ]
    },
    {
      "cell_type": "code",
      "execution_count": 4,
      "metadata": {
        "colab": {
          "base_uri": "https://localhost:8080/",
          "height": 1000
        },
        "id": "15_jhk2bQPs_",
        "outputId": "130f690d-4560-4ec0-a970-aaf2706b70d2"
      },
      "outputs": [
        {
          "output_type": "execute_result",
          "data": {
            "text/plain": [
              "                           field  \\\n",
              "0                     ar_revenue   \n",
              "1              ar_total_expenses   \n",
              "2                   ar_sale_cost   \n",
              "3            ar_selling_expenses   \n",
              "4         ar_management_expenses   \n",
              "5                 ar_sale_profit   \n",
              "6   ar_balance_of_rvns_and_expns   \n",
              "7           ar_profit_before_tax   \n",
              "8                       ar_taxes   \n",
              "9     ar_other_profit_and_losses   \n",
              "10                 ar_net_profit   \n",
              "11         ab_immobilized_assets   \n",
              "12      ab_mobile_current_assets   \n",
              "13                  ab_inventory   \n",
              "14        ab_accounts_receivable   \n",
              "15       ab_other_current_assets   \n",
              "16        ab_cash_and_securities   \n",
              "17                     ab_losses   \n",
              "18                ab_own_capital   \n",
              "19           ab_borrowed_capital   \n",
              "20      ab_long_term_liabilities   \n",
              "21       ab_short_term_borrowing   \n",
              "22           ab_accounts_payable   \n",
              "23           ab_other_borrowings   \n",
              "24                       bus_age   \n",
              "25                      ogrn_age   \n",
              "26                adr_actual_age   \n",
              "27               head_actual_age   \n",
              "28                cap_actual_age   \n",
              "29                ul_staff_range   \n",
              "30                ul_capital_sum   \n",
              "31               ul_founders_cnt   \n",
              "32                 ul_branch_cnt   \n",
              "33              ul_strategic_flg   \n",
              "34          ul_systematizing_flg   \n",
              "\n",
              "                                             desc_eng  \\\n",
              "0         Sales revenue (at the end of the last year)   \n",
              "1                    Total expenses for the last year   \n",
              "2         Cost of sales (at the end of the last year)   \n",
              "3      Selling expenses (at the end of the last year)   \n",
              "4   Administrative expenses (at the end of the las...   \n",
              "5     Profit from sales (at the end of the last year)   \n",
              "6   Balance of income and expenses (at the end of ...   \n",
              "7                     Gross Profit (end of last year)   \n",
              "8    Current income tax (at the end of the last year)   \n",
              "9   Other income and expenses (at the end of the l...   \n",
              "10           Net profit (at the end of the last year)   \n",
              "11                     Fixed assets for the last year   \n",
              "12       Current assets (at the end of the last year)   \n",
              "13               Stocks (at the end of the last year)   \n",
              "14  Accounts receivable (at the end of the last year)   \n",
              "15  Other current assets (at the end of the last y...   \n",
              "16  Cash and cash equivalents (at the end of the l...   \n",
              "17    Retained earnings (at the end of the last year)   \n",
              "18              Capital (at the end of the last year)   \n",
              "19                      Total debt (end of last year)   \n",
              "20  Long-term liabilities (at the end of the last ...   \n",
              "21  Short-term borrowed funds (at the end of the l...   \n",
              "22                 Accounts payable for the last year   \n",
              "23    Other liabilities (at the end of the last year)   \n",
              "24                                  Business duration   \n",
              "25         Term from the moment the PSRN was assigned   \n",
              "26  Term from the date of registration of the lega...   \n",
              "27             Term since the appointment of the head   \n",
              "28       Term from the moment of capital installation   \n",
              "29                            The number of employees   \n",
              "30                                     Capital amount   \n",
              "31                             Number of shareholders   \n",
              "32                                 Number of branches   \n",
              "33                  A company of strategic importance   \n",
              "34                                   Backbone company   \n",
              "\n",
              "                                             desc_rus  \n",
              "0    Выручка от реализации (на конец последнего года)  \n",
              "1                      Общие расходы за последний год  \n",
              "2     Себестоимость продаж (на конец последнего года)  \n",
              "3     Коммерческие расходы (на конец последнего года)  \n",
              "4   Управленческие расходы (на конец последнего года)  \n",
              "5    Прибыль от реализации (на конец последнего года)  \n",
              "6   Баланс доходов и расходов (на конец последнего...  \n",
              "7          Валовая прибыль (на конец последнего года)  \n",
              "8   Текущий на налог на прибыль (на конец последне...  \n",
              "9   Прочие доходы и расходы (на конец последнего г...  \n",
              "10          Чистая прибыль (на конец последнего года)  \n",
              "11    Основные внеоборотные средства за последний год  \n",
              "12        Оборотные активы (на конец последнего года)  \n",
              "13                  Запасы (на конец последнего года)  \n",
              "14  Дебиторская задолженность (на конец последнего...  \n",
              "15  Прочие оборотные активы (на конец последнего г...  \n",
              "16  Денежные средства и денежные эквиваленты (на к...  \n",
              "17  Нераспределенная прибыль (на конец последнего ...  \n",
              "18                 Капитал (на конец последнего года)  \n",
              "19  Общие долговые обязательства (на конец последн...  \n",
              "20  Долгосрочный обязательства (на конец последнег...  \n",
              "21  Краткосрочные заемные средства (на конец после...  \n",
              "22        Кредиторская задодженность за последний год  \n",
              "23    Прочие обязательства (на конец последнего года)  \n",
              "24                               Срок ведения бизнеса  \n",
              "25                   Срок с момента присваивания ОГРН  \n",
              "26     Срок с момента регистрации юридического адреса  \n",
              "27             Срок с момента назначения руководителя  \n",
              "28                  Срок с момента установки капитала  \n",
              "29                             Количество сотрудников  \n",
              "30                                  Величина капитала  \n",
              "31                              Количество акционеров  \n",
              "32                                Количество филиалов  \n",
              "33                  Компания стратегического значения  \n",
              "34                         Системообразующая компания  "
            ],
            "text/html": [
              "\n",
              "  <div id=\"df-8296b5d3-7332-4c73-a335-b72e61bff942\">\n",
              "    <div class=\"colab-df-container\">\n",
              "      <div>\n",
              "<style scoped>\n",
              "    .dataframe tbody tr th:only-of-type {\n",
              "        vertical-align: middle;\n",
              "    }\n",
              "\n",
              "    .dataframe tbody tr th {\n",
              "        vertical-align: top;\n",
              "    }\n",
              "\n",
              "    .dataframe thead th {\n",
              "        text-align: right;\n",
              "    }\n",
              "</style>\n",
              "<table border=\"1\" class=\"dataframe\">\n",
              "  <thead>\n",
              "    <tr style=\"text-align: right;\">\n",
              "      <th></th>\n",
              "      <th>field</th>\n",
              "      <th>desc_eng</th>\n",
              "      <th>desc_rus</th>\n",
              "    </tr>\n",
              "  </thead>\n",
              "  <tbody>\n",
              "    <tr>\n",
              "      <th>0</th>\n",
              "      <td>ar_revenue</td>\n",
              "      <td>Sales revenue (at the end of the last year)</td>\n",
              "      <td>Выручка от реализации (на конец последнего года)</td>\n",
              "    </tr>\n",
              "    <tr>\n",
              "      <th>1</th>\n",
              "      <td>ar_total_expenses</td>\n",
              "      <td>Total expenses for the last year</td>\n",
              "      <td>Общие расходы за последний год</td>\n",
              "    </tr>\n",
              "    <tr>\n",
              "      <th>2</th>\n",
              "      <td>ar_sale_cost</td>\n",
              "      <td>Cost of sales (at the end of the last year)</td>\n",
              "      <td>Себестоимость продаж (на конец последнего года)</td>\n",
              "    </tr>\n",
              "    <tr>\n",
              "      <th>3</th>\n",
              "      <td>ar_selling_expenses</td>\n",
              "      <td>Selling expenses (at the end of the last year)</td>\n",
              "      <td>Коммерческие расходы (на конец последнего года)</td>\n",
              "    </tr>\n",
              "    <tr>\n",
              "      <th>4</th>\n",
              "      <td>ar_management_expenses</td>\n",
              "      <td>Administrative expenses (at the end of the las...</td>\n",
              "      <td>Управленческие расходы (на конец последнего года)</td>\n",
              "    </tr>\n",
              "    <tr>\n",
              "      <th>5</th>\n",
              "      <td>ar_sale_profit</td>\n",
              "      <td>Profit from sales (at the end of the last year)</td>\n",
              "      <td>Прибыль от реализации (на конец последнего года)</td>\n",
              "    </tr>\n",
              "    <tr>\n",
              "      <th>6</th>\n",
              "      <td>ar_balance_of_rvns_and_expns</td>\n",
              "      <td>Balance of income and expenses (at the end of ...</td>\n",
              "      <td>Баланс доходов и расходов (на конец последнего...</td>\n",
              "    </tr>\n",
              "    <tr>\n",
              "      <th>7</th>\n",
              "      <td>ar_profit_before_tax</td>\n",
              "      <td>Gross Profit (end of last year)</td>\n",
              "      <td>Валовая прибыль (на конец последнего года)</td>\n",
              "    </tr>\n",
              "    <tr>\n",
              "      <th>8</th>\n",
              "      <td>ar_taxes</td>\n",
              "      <td>Current income tax (at the end of the last year)</td>\n",
              "      <td>Текущий на налог на прибыль (на конец последне...</td>\n",
              "    </tr>\n",
              "    <tr>\n",
              "      <th>9</th>\n",
              "      <td>ar_other_profit_and_losses</td>\n",
              "      <td>Other income and expenses (at the end of the l...</td>\n",
              "      <td>Прочие доходы и расходы (на конец последнего г...</td>\n",
              "    </tr>\n",
              "    <tr>\n",
              "      <th>10</th>\n",
              "      <td>ar_net_profit</td>\n",
              "      <td>Net profit (at the end of the last year)</td>\n",
              "      <td>Чистая прибыль (на конец последнего года)</td>\n",
              "    </tr>\n",
              "    <tr>\n",
              "      <th>11</th>\n",
              "      <td>ab_immobilized_assets</td>\n",
              "      <td>Fixed assets for the last year</td>\n",
              "      <td>Основные внеоборотные средства за последний год</td>\n",
              "    </tr>\n",
              "    <tr>\n",
              "      <th>12</th>\n",
              "      <td>ab_mobile_current_assets</td>\n",
              "      <td>Current assets (at the end of the last year)</td>\n",
              "      <td>Оборотные активы (на конец последнего года)</td>\n",
              "    </tr>\n",
              "    <tr>\n",
              "      <th>13</th>\n",
              "      <td>ab_inventory</td>\n",
              "      <td>Stocks (at the end of the last year)</td>\n",
              "      <td>Запасы (на конец последнего года)</td>\n",
              "    </tr>\n",
              "    <tr>\n",
              "      <th>14</th>\n",
              "      <td>ab_accounts_receivable</td>\n",
              "      <td>Accounts receivable (at the end of the last year)</td>\n",
              "      <td>Дебиторская задолженность (на конец последнего...</td>\n",
              "    </tr>\n",
              "    <tr>\n",
              "      <th>15</th>\n",
              "      <td>ab_other_current_assets</td>\n",
              "      <td>Other current assets (at the end of the last y...</td>\n",
              "      <td>Прочие оборотные активы (на конец последнего г...</td>\n",
              "    </tr>\n",
              "    <tr>\n",
              "      <th>16</th>\n",
              "      <td>ab_cash_and_securities</td>\n",
              "      <td>Cash and cash equivalents (at the end of the l...</td>\n",
              "      <td>Денежные средства и денежные эквиваленты (на к...</td>\n",
              "    </tr>\n",
              "    <tr>\n",
              "      <th>17</th>\n",
              "      <td>ab_losses</td>\n",
              "      <td>Retained earnings (at the end of the last year)</td>\n",
              "      <td>Нераспределенная прибыль (на конец последнего ...</td>\n",
              "    </tr>\n",
              "    <tr>\n",
              "      <th>18</th>\n",
              "      <td>ab_own_capital</td>\n",
              "      <td>Capital (at the end of the last year)</td>\n",
              "      <td>Капитал (на конец последнего года)</td>\n",
              "    </tr>\n",
              "    <tr>\n",
              "      <th>19</th>\n",
              "      <td>ab_borrowed_capital</td>\n",
              "      <td>Total debt (end of last year)</td>\n",
              "      <td>Общие долговые обязательства (на конец последн...</td>\n",
              "    </tr>\n",
              "    <tr>\n",
              "      <th>20</th>\n",
              "      <td>ab_long_term_liabilities</td>\n",
              "      <td>Long-term liabilities (at the end of the last ...</td>\n",
              "      <td>Долгосрочный обязательства (на конец последнег...</td>\n",
              "    </tr>\n",
              "    <tr>\n",
              "      <th>21</th>\n",
              "      <td>ab_short_term_borrowing</td>\n",
              "      <td>Short-term borrowed funds (at the end of the l...</td>\n",
              "      <td>Краткосрочные заемные средства (на конец после...</td>\n",
              "    </tr>\n",
              "    <tr>\n",
              "      <th>22</th>\n",
              "      <td>ab_accounts_payable</td>\n",
              "      <td>Accounts payable for the last year</td>\n",
              "      <td>Кредиторская задодженность за последний год</td>\n",
              "    </tr>\n",
              "    <tr>\n",
              "      <th>23</th>\n",
              "      <td>ab_other_borrowings</td>\n",
              "      <td>Other liabilities (at the end of the last year)</td>\n",
              "      <td>Прочие обязательства (на конец последнего года)</td>\n",
              "    </tr>\n",
              "    <tr>\n",
              "      <th>24</th>\n",
              "      <td>bus_age</td>\n",
              "      <td>Business duration</td>\n",
              "      <td>Срок ведения бизнеса</td>\n",
              "    </tr>\n",
              "    <tr>\n",
              "      <th>25</th>\n",
              "      <td>ogrn_age</td>\n",
              "      <td>Term from the moment the PSRN was assigned</td>\n",
              "      <td>Срок с момента присваивания ОГРН</td>\n",
              "    </tr>\n",
              "    <tr>\n",
              "      <th>26</th>\n",
              "      <td>adr_actual_age</td>\n",
              "      <td>Term from the date of registration of the lega...</td>\n",
              "      <td>Срок с момента регистрации юридического адреса</td>\n",
              "    </tr>\n",
              "    <tr>\n",
              "      <th>27</th>\n",
              "      <td>head_actual_age</td>\n",
              "      <td>Term since the appointment of the head</td>\n",
              "      <td>Срок с момента назначения руководителя</td>\n",
              "    </tr>\n",
              "    <tr>\n",
              "      <th>28</th>\n",
              "      <td>cap_actual_age</td>\n",
              "      <td>Term from the moment of capital installation</td>\n",
              "      <td>Срок с момента установки капитала</td>\n",
              "    </tr>\n",
              "    <tr>\n",
              "      <th>29</th>\n",
              "      <td>ul_staff_range</td>\n",
              "      <td>The number of employees</td>\n",
              "      <td>Количество сотрудников</td>\n",
              "    </tr>\n",
              "    <tr>\n",
              "      <th>30</th>\n",
              "      <td>ul_capital_sum</td>\n",
              "      <td>Capital amount</td>\n",
              "      <td>Величина капитала</td>\n",
              "    </tr>\n",
              "    <tr>\n",
              "      <th>31</th>\n",
              "      <td>ul_founders_cnt</td>\n",
              "      <td>Number of shareholders</td>\n",
              "      <td>Количество акционеров</td>\n",
              "    </tr>\n",
              "    <tr>\n",
              "      <th>32</th>\n",
              "      <td>ul_branch_cnt</td>\n",
              "      <td>Number of branches</td>\n",
              "      <td>Количество филиалов</td>\n",
              "    </tr>\n",
              "    <tr>\n",
              "      <th>33</th>\n",
              "      <td>ul_strategic_flg</td>\n",
              "      <td>A company of strategic importance</td>\n",
              "      <td>Компания стратегического значения</td>\n",
              "    </tr>\n",
              "    <tr>\n",
              "      <th>34</th>\n",
              "      <td>ul_systematizing_flg</td>\n",
              "      <td>Backbone company</td>\n",
              "      <td>Системообразующая компания</td>\n",
              "    </tr>\n",
              "  </tbody>\n",
              "</table>\n",
              "</div>\n",
              "      <button class=\"colab-df-convert\" onclick=\"convertToInteractive('df-8296b5d3-7332-4c73-a335-b72e61bff942')\"\n",
              "              title=\"Convert this dataframe to an interactive table.\"\n",
              "              style=\"display:none;\">\n",
              "        \n",
              "  <svg xmlns=\"http://www.w3.org/2000/svg\" height=\"24px\"viewBox=\"0 0 24 24\"\n",
              "       width=\"24px\">\n",
              "    <path d=\"M0 0h24v24H0V0z\" fill=\"none\"/>\n",
              "    <path d=\"M18.56 5.44l.94 2.06.94-2.06 2.06-.94-2.06-.94-.94-2.06-.94 2.06-2.06.94zm-11 1L8.5 8.5l.94-2.06 2.06-.94-2.06-.94L8.5 2.5l-.94 2.06-2.06.94zm10 10l.94 2.06.94-2.06 2.06-.94-2.06-.94-.94-2.06-.94 2.06-2.06.94z\"/><path d=\"M17.41 7.96l-1.37-1.37c-.4-.4-.92-.59-1.43-.59-.52 0-1.04.2-1.43.59L10.3 9.45l-7.72 7.72c-.78.78-.78 2.05 0 2.83L4 21.41c.39.39.9.59 1.41.59.51 0 1.02-.2 1.41-.59l7.78-7.78 2.81-2.81c.8-.78.8-2.07 0-2.86zM5.41 20L4 18.59l7.72-7.72 1.47 1.35L5.41 20z\"/>\n",
              "  </svg>\n",
              "      </button>\n",
              "      \n",
              "  <style>\n",
              "    .colab-df-container {\n",
              "      display:flex;\n",
              "      flex-wrap:wrap;\n",
              "      gap: 12px;\n",
              "    }\n",
              "\n",
              "    .colab-df-convert {\n",
              "      background-color: #E8F0FE;\n",
              "      border: none;\n",
              "      border-radius: 50%;\n",
              "      cursor: pointer;\n",
              "      display: none;\n",
              "      fill: #1967D2;\n",
              "      height: 32px;\n",
              "      padding: 0 0 0 0;\n",
              "      width: 32px;\n",
              "    }\n",
              "\n",
              "    .colab-df-convert:hover {\n",
              "      background-color: #E2EBFA;\n",
              "      box-shadow: 0px 1px 2px rgba(60, 64, 67, 0.3), 0px 1px 3px 1px rgba(60, 64, 67, 0.15);\n",
              "      fill: #174EA6;\n",
              "    }\n",
              "\n",
              "    [theme=dark] .colab-df-convert {\n",
              "      background-color: #3B4455;\n",
              "      fill: #D2E3FC;\n",
              "    }\n",
              "\n",
              "    [theme=dark] .colab-df-convert:hover {\n",
              "      background-color: #434B5C;\n",
              "      box-shadow: 0px 1px 3px 1px rgba(0, 0, 0, 0.15);\n",
              "      filter: drop-shadow(0px 1px 2px rgba(0, 0, 0, 0.3));\n",
              "      fill: #FFFFFF;\n",
              "    }\n",
              "  </style>\n",
              "\n",
              "      <script>\n",
              "        const buttonEl =\n",
              "          document.querySelector('#df-8296b5d3-7332-4c73-a335-b72e61bff942 button.colab-df-convert');\n",
              "        buttonEl.style.display =\n",
              "          google.colab.kernel.accessAllowed ? 'block' : 'none';\n",
              "\n",
              "        async function convertToInteractive(key) {\n",
              "          const element = document.querySelector('#df-8296b5d3-7332-4c73-a335-b72e61bff942');\n",
              "          const dataTable =\n",
              "            await google.colab.kernel.invokeFunction('convertToInteractive',\n",
              "                                                     [key], {});\n",
              "          if (!dataTable) return;\n",
              "\n",
              "          const docLinkHtml = 'Like what you see? Visit the ' +\n",
              "            '<a target=\"_blank\" href=https://colab.research.google.com/notebooks/data_table.ipynb>data table notebook</a>'\n",
              "            + ' to learn more about interactive tables.';\n",
              "          element.innerHTML = '';\n",
              "          dataTable['output_type'] = 'display_data';\n",
              "          await google.colab.output.renderOutput(dataTable, element);\n",
              "          const docLink = document.createElement('div');\n",
              "          docLink.innerHTML = docLinkHtml;\n",
              "          element.appendChild(docLink);\n",
              "        }\n",
              "      </script>\n",
              "    </div>\n",
              "  </div>\n",
              "  "
            ]
          },
          "metadata": {},
          "execution_count": 4
        }
      ],
      "source": [
        "desc_df"
      ]
    },
    {
      "cell_type": "markdown",
      "metadata": {
        "id": "An6p1hDkN92J"
      },
      "source": [
        "Семплы и размеры выборок"
      ]
    },
    {
      "cell_type": "code",
      "execution_count": 5,
      "metadata": {
        "colab": {
          "base_uri": "https://localhost:8080/",
          "height": 297
        },
        "id": "FDqOr3Du8C1Y",
        "outputId": "9f11c821-e583-4429-bc15-394956093dac"
      },
      "outputs": [
        {
          "output_type": "execute_result",
          "data": {
            "text/plain": [
              "   record_id  ar_revenue  ar_total_expenses  ar_sale_cost  \\\n",
              "0          7  52996000.0         48344000.0    48344000.0   \n",
              "1         13         NaN                NaN           NaN   \n",
              "2         18         NaN                NaN           NaN   \n",
              "3         22  32049000.0         29568000.0    29568000.0   \n",
              "4         23  16458000.0         14935000.0    14935000.0   \n",
              "\n",
              "   ar_selling_expenses  ar_management_expenses  ar_sale_profit  \\\n",
              "0                  0.0                     0.0       4652000.0   \n",
              "1                  NaN                     NaN             NaN   \n",
              "2                  NaN                     NaN             NaN   \n",
              "3                  0.0                     0.0       2481000.0   \n",
              "4                  0.0                     0.0       1523000.0   \n",
              "\n",
              "   ar_balance_of_rvns_and_expns  ar_profit_before_tax  ar_taxes  ...  \\\n",
              "0                    -2608000.0             2044000.0  846000.0  ...   \n",
              "1                           NaN                   NaN       NaN  ...   \n",
              "2                           NaN                   NaN       NaN  ...   \n",
              "3                     -260000.0             2221000.0  302000.0  ...   \n",
              "4                     -274000.0             1249000.0  538000.0  ...   \n",
              "\n",
              "   adr_actual_age  head_actual_age  cap_actual_age  ul_staff_range  \\\n",
              "0               3                3               3         [1-100]   \n",
              "1              12               12              12         [1-100]   \n",
              "2              28               28              28         [1-100]   \n",
              "3               8                8               8         [1-100]   \n",
              "4              27               27              27         [1-100]   \n",
              "\n",
              "   ul_capital_sum  ul_founders_cnt  ul_branch_cnt  ul_strategic_flg  \\\n",
              "0         50000.0                2              0                 0   \n",
              "1         10000.0                5              0                 0   \n",
              "2         10000.0                2              0                 0   \n",
              "3        300000.0                1              0                 0   \n",
              "4         10000.0                2              0                 0   \n",
              "\n",
              "   ul_systematizing_flg  default_12m  \n",
              "0                     0            0  \n",
              "1                     0            0  \n",
              "2                     0            0  \n",
              "3                     0            0  \n",
              "4                     0            0  \n",
              "\n",
              "[5 rows x 37 columns]"
            ],
            "text/html": [
              "\n",
              "  <div id=\"df-deefd308-0ce2-4d51-a6f8-74418a0f3b6f\">\n",
              "    <div class=\"colab-df-container\">\n",
              "      <div>\n",
              "<style scoped>\n",
              "    .dataframe tbody tr th:only-of-type {\n",
              "        vertical-align: middle;\n",
              "    }\n",
              "\n",
              "    .dataframe tbody tr th {\n",
              "        vertical-align: top;\n",
              "    }\n",
              "\n",
              "    .dataframe thead th {\n",
              "        text-align: right;\n",
              "    }\n",
              "</style>\n",
              "<table border=\"1\" class=\"dataframe\">\n",
              "  <thead>\n",
              "    <tr style=\"text-align: right;\">\n",
              "      <th></th>\n",
              "      <th>record_id</th>\n",
              "      <th>ar_revenue</th>\n",
              "      <th>ar_total_expenses</th>\n",
              "      <th>ar_sale_cost</th>\n",
              "      <th>ar_selling_expenses</th>\n",
              "      <th>ar_management_expenses</th>\n",
              "      <th>ar_sale_profit</th>\n",
              "      <th>ar_balance_of_rvns_and_expns</th>\n",
              "      <th>ar_profit_before_tax</th>\n",
              "      <th>ar_taxes</th>\n",
              "      <th>...</th>\n",
              "      <th>adr_actual_age</th>\n",
              "      <th>head_actual_age</th>\n",
              "      <th>cap_actual_age</th>\n",
              "      <th>ul_staff_range</th>\n",
              "      <th>ul_capital_sum</th>\n",
              "      <th>ul_founders_cnt</th>\n",
              "      <th>ul_branch_cnt</th>\n",
              "      <th>ul_strategic_flg</th>\n",
              "      <th>ul_systematizing_flg</th>\n",
              "      <th>default_12m</th>\n",
              "    </tr>\n",
              "  </thead>\n",
              "  <tbody>\n",
              "    <tr>\n",
              "      <th>0</th>\n",
              "      <td>7</td>\n",
              "      <td>52996000.0</td>\n",
              "      <td>48344000.0</td>\n",
              "      <td>48344000.0</td>\n",
              "      <td>0.0</td>\n",
              "      <td>0.0</td>\n",
              "      <td>4652000.0</td>\n",
              "      <td>-2608000.0</td>\n",
              "      <td>2044000.0</td>\n",
              "      <td>846000.0</td>\n",
              "      <td>...</td>\n",
              "      <td>3</td>\n",
              "      <td>3</td>\n",
              "      <td>3</td>\n",
              "      <td>[1-100]</td>\n",
              "      <td>50000.0</td>\n",
              "      <td>2</td>\n",
              "      <td>0</td>\n",
              "      <td>0</td>\n",
              "      <td>0</td>\n",
              "      <td>0</td>\n",
              "    </tr>\n",
              "    <tr>\n",
              "      <th>1</th>\n",
              "      <td>13</td>\n",
              "      <td>NaN</td>\n",
              "      <td>NaN</td>\n",
              "      <td>NaN</td>\n",
              "      <td>NaN</td>\n",
              "      <td>NaN</td>\n",
              "      <td>NaN</td>\n",
              "      <td>NaN</td>\n",
              "      <td>NaN</td>\n",
              "      <td>NaN</td>\n",
              "      <td>...</td>\n",
              "      <td>12</td>\n",
              "      <td>12</td>\n",
              "      <td>12</td>\n",
              "      <td>[1-100]</td>\n",
              "      <td>10000.0</td>\n",
              "      <td>5</td>\n",
              "      <td>0</td>\n",
              "      <td>0</td>\n",
              "      <td>0</td>\n",
              "      <td>0</td>\n",
              "    </tr>\n",
              "    <tr>\n",
              "      <th>2</th>\n",
              "      <td>18</td>\n",
              "      <td>NaN</td>\n",
              "      <td>NaN</td>\n",
              "      <td>NaN</td>\n",
              "      <td>NaN</td>\n",
              "      <td>NaN</td>\n",
              "      <td>NaN</td>\n",
              "      <td>NaN</td>\n",
              "      <td>NaN</td>\n",
              "      <td>NaN</td>\n",
              "      <td>...</td>\n",
              "      <td>28</td>\n",
              "      <td>28</td>\n",
              "      <td>28</td>\n",
              "      <td>[1-100]</td>\n",
              "      <td>10000.0</td>\n",
              "      <td>2</td>\n",
              "      <td>0</td>\n",
              "      <td>0</td>\n",
              "      <td>0</td>\n",
              "      <td>0</td>\n",
              "    </tr>\n",
              "    <tr>\n",
              "      <th>3</th>\n",
              "      <td>22</td>\n",
              "      <td>32049000.0</td>\n",
              "      <td>29568000.0</td>\n",
              "      <td>29568000.0</td>\n",
              "      <td>0.0</td>\n",
              "      <td>0.0</td>\n",
              "      <td>2481000.0</td>\n",
              "      <td>-260000.0</td>\n",
              "      <td>2221000.0</td>\n",
              "      <td>302000.0</td>\n",
              "      <td>...</td>\n",
              "      <td>8</td>\n",
              "      <td>8</td>\n",
              "      <td>8</td>\n",
              "      <td>[1-100]</td>\n",
              "      <td>300000.0</td>\n",
              "      <td>1</td>\n",
              "      <td>0</td>\n",
              "      <td>0</td>\n",
              "      <td>0</td>\n",
              "      <td>0</td>\n",
              "    </tr>\n",
              "    <tr>\n",
              "      <th>4</th>\n",
              "      <td>23</td>\n",
              "      <td>16458000.0</td>\n",
              "      <td>14935000.0</td>\n",
              "      <td>14935000.0</td>\n",
              "      <td>0.0</td>\n",
              "      <td>0.0</td>\n",
              "      <td>1523000.0</td>\n",
              "      <td>-274000.0</td>\n",
              "      <td>1249000.0</td>\n",
              "      <td>538000.0</td>\n",
              "      <td>...</td>\n",
              "      <td>27</td>\n",
              "      <td>27</td>\n",
              "      <td>27</td>\n",
              "      <td>[1-100]</td>\n",
              "      <td>10000.0</td>\n",
              "      <td>2</td>\n",
              "      <td>0</td>\n",
              "      <td>0</td>\n",
              "      <td>0</td>\n",
              "      <td>0</td>\n",
              "    </tr>\n",
              "  </tbody>\n",
              "</table>\n",
              "<p>5 rows × 37 columns</p>\n",
              "</div>\n",
              "      <button class=\"colab-df-convert\" onclick=\"convertToInteractive('df-deefd308-0ce2-4d51-a6f8-74418a0f3b6f')\"\n",
              "              title=\"Convert this dataframe to an interactive table.\"\n",
              "              style=\"display:none;\">\n",
              "        \n",
              "  <svg xmlns=\"http://www.w3.org/2000/svg\" height=\"24px\"viewBox=\"0 0 24 24\"\n",
              "       width=\"24px\">\n",
              "    <path d=\"M0 0h24v24H0V0z\" fill=\"none\"/>\n",
              "    <path d=\"M18.56 5.44l.94 2.06.94-2.06 2.06-.94-2.06-.94-.94-2.06-.94 2.06-2.06.94zm-11 1L8.5 8.5l.94-2.06 2.06-.94-2.06-.94L8.5 2.5l-.94 2.06-2.06.94zm10 10l.94 2.06.94-2.06 2.06-.94-2.06-.94-.94-2.06-.94 2.06-2.06.94z\"/><path d=\"M17.41 7.96l-1.37-1.37c-.4-.4-.92-.59-1.43-.59-.52 0-1.04.2-1.43.59L10.3 9.45l-7.72 7.72c-.78.78-.78 2.05 0 2.83L4 21.41c.39.39.9.59 1.41.59.51 0 1.02-.2 1.41-.59l7.78-7.78 2.81-2.81c.8-.78.8-2.07 0-2.86zM5.41 20L4 18.59l7.72-7.72 1.47 1.35L5.41 20z\"/>\n",
              "  </svg>\n",
              "      </button>\n",
              "      \n",
              "  <style>\n",
              "    .colab-df-container {\n",
              "      display:flex;\n",
              "      flex-wrap:wrap;\n",
              "      gap: 12px;\n",
              "    }\n",
              "\n",
              "    .colab-df-convert {\n",
              "      background-color: #E8F0FE;\n",
              "      border: none;\n",
              "      border-radius: 50%;\n",
              "      cursor: pointer;\n",
              "      display: none;\n",
              "      fill: #1967D2;\n",
              "      height: 32px;\n",
              "      padding: 0 0 0 0;\n",
              "      width: 32px;\n",
              "    }\n",
              "\n",
              "    .colab-df-convert:hover {\n",
              "      background-color: #E2EBFA;\n",
              "      box-shadow: 0px 1px 2px rgba(60, 64, 67, 0.3), 0px 1px 3px 1px rgba(60, 64, 67, 0.15);\n",
              "      fill: #174EA6;\n",
              "    }\n",
              "\n",
              "    [theme=dark] .colab-df-convert {\n",
              "      background-color: #3B4455;\n",
              "      fill: #D2E3FC;\n",
              "    }\n",
              "\n",
              "    [theme=dark] .colab-df-convert:hover {\n",
              "      background-color: #434B5C;\n",
              "      box-shadow: 0px 1px 3px 1px rgba(0, 0, 0, 0.15);\n",
              "      filter: drop-shadow(0px 1px 2px rgba(0, 0, 0, 0.3));\n",
              "      fill: #FFFFFF;\n",
              "    }\n",
              "  </style>\n",
              "\n",
              "      <script>\n",
              "        const buttonEl =\n",
              "          document.querySelector('#df-deefd308-0ce2-4d51-a6f8-74418a0f3b6f button.colab-df-convert');\n",
              "        buttonEl.style.display =\n",
              "          google.colab.kernel.accessAllowed ? 'block' : 'none';\n",
              "\n",
              "        async function convertToInteractive(key) {\n",
              "          const element = document.querySelector('#df-deefd308-0ce2-4d51-a6f8-74418a0f3b6f');\n",
              "          const dataTable =\n",
              "            await google.colab.kernel.invokeFunction('convertToInteractive',\n",
              "                                                     [key], {});\n",
              "          if (!dataTable) return;\n",
              "\n",
              "          const docLinkHtml = 'Like what you see? Visit the ' +\n",
              "            '<a target=\"_blank\" href=https://colab.research.google.com/notebooks/data_table.ipynb>data table notebook</a>'\n",
              "            + ' to learn more about interactive tables.';\n",
              "          element.innerHTML = '';\n",
              "          dataTable['output_type'] = 'display_data';\n",
              "          await google.colab.output.renderOutput(dataTable, element);\n",
              "          const docLink = document.createElement('div');\n",
              "          docLink.innerHTML = docLinkHtml;\n",
              "          element.appendChild(docLink);\n",
              "        }\n",
              "      </script>\n",
              "    </div>\n",
              "  </div>\n",
              "  "
            ]
          },
          "metadata": {},
          "execution_count": 5
        }
      ],
      "source": [
        "train_df.head()"
      ]
    },
    {
      "cell_type": "code",
      "execution_count": 6,
      "metadata": {
        "colab": {
          "base_uri": "https://localhost:8080/"
        },
        "id": "wW_OWNg-8Hfi",
        "outputId": "5dc7f0f4-50b8-4ef5-b0e1-616ff120d7a6"
      },
      "outputs": [
        {
          "output_type": "execute_result",
          "data": {
            "text/plain": [
              "(32395, 37)"
            ]
          },
          "metadata": {},
          "execution_count": 6
        }
      ],
      "source": [
        "train_df.shape"
      ]
    },
    {
      "cell_type": "code",
      "execution_count": 7,
      "metadata": {
        "colab": {
          "base_uri": "https://localhost:8080/",
          "height": 297
        },
        "id": "YLkB3G8P8EF9",
        "outputId": "97a09f70-672d-4174-fb9d-0b142c128250"
      },
      "outputs": [
        {
          "output_type": "execute_result",
          "data": {
            "text/plain": [
              "   record_id   ar_revenue  ar_total_expenses  ar_sale_cost  \\\n",
              "0        196   39103000.0         38913000.0    38913000.0   \n",
              "1       1196          NaN                NaN           NaN   \n",
              "2       2813   54174000.0         50929000.0    50929000.0   \n",
              "3       4385    1904000.0          1679000.0     1679000.0   \n",
              "4       6479  225584000.0        210685000.0   210685000.0   \n",
              "\n",
              "   ar_selling_expenses  ar_management_expenses  ar_sale_profit  \\\n",
              "0                  0.0                     0.0        190000.0   \n",
              "1                  NaN                     NaN             NaN   \n",
              "2                  0.0                     0.0       3245000.0   \n",
              "3                  0.0                     0.0        225000.0   \n",
              "4                  0.0                     0.0      14899000.0   \n",
              "\n",
              "   ar_balance_of_rvns_and_expns  ar_profit_before_tax  ar_taxes  ...  \\\n",
              "0                      141000.0              331000.0  284000.0  ...   \n",
              "1                           NaN                   NaN       NaN  ...   \n",
              "2                    -1278000.0             1967000.0  500000.0  ...   \n",
              "3                      -88000.0              137000.0       0.0  ...   \n",
              "4                   -12715000.0             2184000.0  445000.0  ...   \n",
              "\n",
              "   ogrn_age  adr_actual_age  head_actual_age  cap_actual_age  ul_staff_range  \\\n",
              "0       135               3                3               3         [1-100]   \n",
              "1       138               5                5               5         [1-100]   \n",
              "2       138              20               20              20         [1-100]   \n",
              "3       139               9                9               9         [1-100]   \n",
              "4       139               3                3               3       (100-500]   \n",
              "\n",
              "   ul_capital_sum  ul_founders_cnt  ul_branch_cnt  ul_strategic_flg  \\\n",
              "0        100000.0                1              0                 0   \n",
              "1        100000.0                1              0                 0   \n",
              "2        250000.0                2              0                 0   \n",
              "3         10000.0                2              0                 0   \n",
              "4       1700598.0               84              0                 0   \n",
              "\n",
              "   ul_systematizing_flg  \n",
              "0                     0  \n",
              "1                     0  \n",
              "2                     0  \n",
              "3                     0  \n",
              "4                     0  \n",
              "\n",
              "[5 rows x 36 columns]"
            ],
            "text/html": [
              "\n",
              "  <div id=\"df-b5aa6f93-7fe3-4a58-bad2-3dc8b9875634\">\n",
              "    <div class=\"colab-df-container\">\n",
              "      <div>\n",
              "<style scoped>\n",
              "    .dataframe tbody tr th:only-of-type {\n",
              "        vertical-align: middle;\n",
              "    }\n",
              "\n",
              "    .dataframe tbody tr th {\n",
              "        vertical-align: top;\n",
              "    }\n",
              "\n",
              "    .dataframe thead th {\n",
              "        text-align: right;\n",
              "    }\n",
              "</style>\n",
              "<table border=\"1\" class=\"dataframe\">\n",
              "  <thead>\n",
              "    <tr style=\"text-align: right;\">\n",
              "      <th></th>\n",
              "      <th>record_id</th>\n",
              "      <th>ar_revenue</th>\n",
              "      <th>ar_total_expenses</th>\n",
              "      <th>ar_sale_cost</th>\n",
              "      <th>ar_selling_expenses</th>\n",
              "      <th>ar_management_expenses</th>\n",
              "      <th>ar_sale_profit</th>\n",
              "      <th>ar_balance_of_rvns_and_expns</th>\n",
              "      <th>ar_profit_before_tax</th>\n",
              "      <th>ar_taxes</th>\n",
              "      <th>...</th>\n",
              "      <th>ogrn_age</th>\n",
              "      <th>adr_actual_age</th>\n",
              "      <th>head_actual_age</th>\n",
              "      <th>cap_actual_age</th>\n",
              "      <th>ul_staff_range</th>\n",
              "      <th>ul_capital_sum</th>\n",
              "      <th>ul_founders_cnt</th>\n",
              "      <th>ul_branch_cnt</th>\n",
              "      <th>ul_strategic_flg</th>\n",
              "      <th>ul_systematizing_flg</th>\n",
              "    </tr>\n",
              "  </thead>\n",
              "  <tbody>\n",
              "    <tr>\n",
              "      <th>0</th>\n",
              "      <td>196</td>\n",
              "      <td>39103000.0</td>\n",
              "      <td>38913000.0</td>\n",
              "      <td>38913000.0</td>\n",
              "      <td>0.0</td>\n",
              "      <td>0.0</td>\n",
              "      <td>190000.0</td>\n",
              "      <td>141000.0</td>\n",
              "      <td>331000.0</td>\n",
              "      <td>284000.0</td>\n",
              "      <td>...</td>\n",
              "      <td>135</td>\n",
              "      <td>3</td>\n",
              "      <td>3</td>\n",
              "      <td>3</td>\n",
              "      <td>[1-100]</td>\n",
              "      <td>100000.0</td>\n",
              "      <td>1</td>\n",
              "      <td>0</td>\n",
              "      <td>0</td>\n",
              "      <td>0</td>\n",
              "    </tr>\n",
              "    <tr>\n",
              "      <th>1</th>\n",
              "      <td>1196</td>\n",
              "      <td>NaN</td>\n",
              "      <td>NaN</td>\n",
              "      <td>NaN</td>\n",
              "      <td>NaN</td>\n",
              "      <td>NaN</td>\n",
              "      <td>NaN</td>\n",
              "      <td>NaN</td>\n",
              "      <td>NaN</td>\n",
              "      <td>NaN</td>\n",
              "      <td>...</td>\n",
              "      <td>138</td>\n",
              "      <td>5</td>\n",
              "      <td>5</td>\n",
              "      <td>5</td>\n",
              "      <td>[1-100]</td>\n",
              "      <td>100000.0</td>\n",
              "      <td>1</td>\n",
              "      <td>0</td>\n",
              "      <td>0</td>\n",
              "      <td>0</td>\n",
              "    </tr>\n",
              "    <tr>\n",
              "      <th>2</th>\n",
              "      <td>2813</td>\n",
              "      <td>54174000.0</td>\n",
              "      <td>50929000.0</td>\n",
              "      <td>50929000.0</td>\n",
              "      <td>0.0</td>\n",
              "      <td>0.0</td>\n",
              "      <td>3245000.0</td>\n",
              "      <td>-1278000.0</td>\n",
              "      <td>1967000.0</td>\n",
              "      <td>500000.0</td>\n",
              "      <td>...</td>\n",
              "      <td>138</td>\n",
              "      <td>20</td>\n",
              "      <td>20</td>\n",
              "      <td>20</td>\n",
              "      <td>[1-100]</td>\n",
              "      <td>250000.0</td>\n",
              "      <td>2</td>\n",
              "      <td>0</td>\n",
              "      <td>0</td>\n",
              "      <td>0</td>\n",
              "    </tr>\n",
              "    <tr>\n",
              "      <th>3</th>\n",
              "      <td>4385</td>\n",
              "      <td>1904000.0</td>\n",
              "      <td>1679000.0</td>\n",
              "      <td>1679000.0</td>\n",
              "      <td>0.0</td>\n",
              "      <td>0.0</td>\n",
              "      <td>225000.0</td>\n",
              "      <td>-88000.0</td>\n",
              "      <td>137000.0</td>\n",
              "      <td>0.0</td>\n",
              "      <td>...</td>\n",
              "      <td>139</td>\n",
              "      <td>9</td>\n",
              "      <td>9</td>\n",
              "      <td>9</td>\n",
              "      <td>[1-100]</td>\n",
              "      <td>10000.0</td>\n",
              "      <td>2</td>\n",
              "      <td>0</td>\n",
              "      <td>0</td>\n",
              "      <td>0</td>\n",
              "    </tr>\n",
              "    <tr>\n",
              "      <th>4</th>\n",
              "      <td>6479</td>\n",
              "      <td>225584000.0</td>\n",
              "      <td>210685000.0</td>\n",
              "      <td>210685000.0</td>\n",
              "      <td>0.0</td>\n",
              "      <td>0.0</td>\n",
              "      <td>14899000.0</td>\n",
              "      <td>-12715000.0</td>\n",
              "      <td>2184000.0</td>\n",
              "      <td>445000.0</td>\n",
              "      <td>...</td>\n",
              "      <td>139</td>\n",
              "      <td>3</td>\n",
              "      <td>3</td>\n",
              "      <td>3</td>\n",
              "      <td>(100-500]</td>\n",
              "      <td>1700598.0</td>\n",
              "      <td>84</td>\n",
              "      <td>0</td>\n",
              "      <td>0</td>\n",
              "      <td>0</td>\n",
              "    </tr>\n",
              "  </tbody>\n",
              "</table>\n",
              "<p>5 rows × 36 columns</p>\n",
              "</div>\n",
              "      <button class=\"colab-df-convert\" onclick=\"convertToInteractive('df-b5aa6f93-7fe3-4a58-bad2-3dc8b9875634')\"\n",
              "              title=\"Convert this dataframe to an interactive table.\"\n",
              "              style=\"display:none;\">\n",
              "        \n",
              "  <svg xmlns=\"http://www.w3.org/2000/svg\" height=\"24px\"viewBox=\"0 0 24 24\"\n",
              "       width=\"24px\">\n",
              "    <path d=\"M0 0h24v24H0V0z\" fill=\"none\"/>\n",
              "    <path d=\"M18.56 5.44l.94 2.06.94-2.06 2.06-.94-2.06-.94-.94-2.06-.94 2.06-2.06.94zm-11 1L8.5 8.5l.94-2.06 2.06-.94-2.06-.94L8.5 2.5l-.94 2.06-2.06.94zm10 10l.94 2.06.94-2.06 2.06-.94-2.06-.94-.94-2.06-.94 2.06-2.06.94z\"/><path d=\"M17.41 7.96l-1.37-1.37c-.4-.4-.92-.59-1.43-.59-.52 0-1.04.2-1.43.59L10.3 9.45l-7.72 7.72c-.78.78-.78 2.05 0 2.83L4 21.41c.39.39.9.59 1.41.59.51 0 1.02-.2 1.41-.59l7.78-7.78 2.81-2.81c.8-.78.8-2.07 0-2.86zM5.41 20L4 18.59l7.72-7.72 1.47 1.35L5.41 20z\"/>\n",
              "  </svg>\n",
              "      </button>\n",
              "      \n",
              "  <style>\n",
              "    .colab-df-container {\n",
              "      display:flex;\n",
              "      flex-wrap:wrap;\n",
              "      gap: 12px;\n",
              "    }\n",
              "\n",
              "    .colab-df-convert {\n",
              "      background-color: #E8F0FE;\n",
              "      border: none;\n",
              "      border-radius: 50%;\n",
              "      cursor: pointer;\n",
              "      display: none;\n",
              "      fill: #1967D2;\n",
              "      height: 32px;\n",
              "      padding: 0 0 0 0;\n",
              "      width: 32px;\n",
              "    }\n",
              "\n",
              "    .colab-df-convert:hover {\n",
              "      background-color: #E2EBFA;\n",
              "      box-shadow: 0px 1px 2px rgba(60, 64, 67, 0.3), 0px 1px 3px 1px rgba(60, 64, 67, 0.15);\n",
              "      fill: #174EA6;\n",
              "    }\n",
              "\n",
              "    [theme=dark] .colab-df-convert {\n",
              "      background-color: #3B4455;\n",
              "      fill: #D2E3FC;\n",
              "    }\n",
              "\n",
              "    [theme=dark] .colab-df-convert:hover {\n",
              "      background-color: #434B5C;\n",
              "      box-shadow: 0px 1px 3px 1px rgba(0, 0, 0, 0.15);\n",
              "      filter: drop-shadow(0px 1px 2px rgba(0, 0, 0, 0.3));\n",
              "      fill: #FFFFFF;\n",
              "    }\n",
              "  </style>\n",
              "\n",
              "      <script>\n",
              "        const buttonEl =\n",
              "          document.querySelector('#df-b5aa6f93-7fe3-4a58-bad2-3dc8b9875634 button.colab-df-convert');\n",
              "        buttonEl.style.display =\n",
              "          google.colab.kernel.accessAllowed ? 'block' : 'none';\n",
              "\n",
              "        async function convertToInteractive(key) {\n",
              "          const element = document.querySelector('#df-b5aa6f93-7fe3-4a58-bad2-3dc8b9875634');\n",
              "          const dataTable =\n",
              "            await google.colab.kernel.invokeFunction('convertToInteractive',\n",
              "                                                     [key], {});\n",
              "          if (!dataTable) return;\n",
              "\n",
              "          const docLinkHtml = 'Like what you see? Visit the ' +\n",
              "            '<a target=\"_blank\" href=https://colab.research.google.com/notebooks/data_table.ipynb>data table notebook</a>'\n",
              "            + ' to learn more about interactive tables.';\n",
              "          element.innerHTML = '';\n",
              "          dataTable['output_type'] = 'display_data';\n",
              "          await google.colab.output.renderOutput(dataTable, element);\n",
              "          const docLink = document.createElement('div');\n",
              "          docLink.innerHTML = docLinkHtml;\n",
              "          element.appendChild(docLink);\n",
              "        }\n",
              "      </script>\n",
              "    </div>\n",
              "  </div>\n",
              "  "
            ]
          },
          "metadata": {},
          "execution_count": 7
        }
      ],
      "source": [
        "test_df.head()"
      ]
    },
    {
      "cell_type": "code",
      "execution_count": 8,
      "metadata": {
        "colab": {
          "base_uri": "https://localhost:8080/"
        },
        "id": "ap4HITfx8KC7",
        "outputId": "f3cca188-6a05-4168-ca0e-45a78a3c61cd"
      },
      "outputs": [
        {
          "output_type": "execute_result",
          "data": {
            "text/plain": [
              "(200, 36)"
            ]
          },
          "metadata": {},
          "execution_count": 8
        }
      ],
      "source": [
        "test_df.shape"
      ]
    },
    {
      "cell_type": "markdown",
      "metadata": {
        "id": "H06Wcg09N92N"
      },
      "source": [
        "Количество разных типов фичей"
      ]
    },
    {
      "cell_type": "code",
      "execution_count": 9,
      "metadata": {
        "colab": {
          "base_uri": "https://localhost:8080/"
        },
        "id": "cYOxzyvLN92O",
        "outputId": "7a605ca5-2116-45fe-8c55-25aa1aa3c949"
      },
      "outputs": [
        {
          "output_type": "execute_result",
          "data": {
            "text/plain": [
              "float64    25\n",
              "int64      11\n",
              "object      1\n",
              "dtype: int64"
            ]
          },
          "metadata": {},
          "execution_count": 9
        }
      ],
      "source": [
        "train_df.dtypes.value_counts()"
      ]
    },
    {
      "cell_type": "markdown",
      "metadata": {
        "id": "f8ZLAgMeN92R"
      },
      "source": [
        "Уровень дефолт-рейта в выборке = 6,7219%"
      ]
    },
    {
      "cell_type": "code",
      "execution_count": 10,
      "metadata": {
        "colab": {
          "base_uri": "https://localhost:8080/"
        },
        "id": "LTHNGVxTN92S",
        "outputId": "ac6cec36-9446-46ec-ba28-205ec269a84e"
      },
      "outputs": [
        {
          "output_type": "execute_result",
          "data": {
            "text/plain": [
              "0.06454699799351751"
            ]
          },
          "metadata": {},
          "execution_count": 10
        }
      ],
      "source": [
        "train_df['default_12m'].values.mean()"
      ]
    },
    {
      "cell_type": "code",
      "source": [],
      "metadata": {
        "id": "EL6Mrb2YT6Rw"
      },
      "execution_count": 10,
      "outputs": []
    },
    {
      "cell_type": "code",
      "execution_count": 11,
      "metadata": {
        "colab": {
          "base_uri": "https://localhost:8080/"
        },
        "id": "47MrTU_xN92X",
        "outputId": "6927f035-3dc3-4050-d164-3dddf280babc"
      },
      "outputs": [
        {
          "output_type": "execute_result",
          "data": {
            "text/plain": [
              "32395"
            ]
          },
          "metadata": {},
          "execution_count": 11
        }
      ],
      "source": [
        "train_df.record_id.nunique()"
      ]
    },
    {
      "cell_type": "markdown",
      "metadata": {
        "id": "vo_LbDC0N92a"
      },
      "source": [
        "32395 уникальных наблюдений"
      ]
    },
    {
      "cell_type": "markdown",
      "metadata": {
        "id": "tIkwdsWrN92b"
      },
      "source": [
        "### Строим бэйзлайн модель c 3-ми фичами"
      ]
    },
    {
      "cell_type": "code",
      "execution_count": 12,
      "metadata": {
        "id": "A_XNOaYeN92b"
      },
      "outputs": [],
      "source": [
        "features = ['bus_age','ul_capital_sum', 'ul_founders_cnt']"
      ]
    },
    {
      "cell_type": "code",
      "execution_count": 13,
      "metadata": {
        "id": "GzVaIYtKN92e"
      },
      "outputs": [],
      "source": [
        "features_df = train_df.loc[:,features]\n",
        "features_df['default_12m'] = train_df['default_12m']"
      ]
    },
    {
      "cell_type": "code",
      "execution_count": 14,
      "metadata": {
        "colab": {
          "base_uri": "https://localhost:8080/",
          "height": 204
        },
        "id": "iGuLdQOKN92h",
        "outputId": "7f872bed-d827-404e-f9ca-c039255dfeb8"
      },
      "outputs": [
        {
          "output_type": "execute_result",
          "data": {
            "text/plain": [
              "   bus_age  ul_capital_sum  ul_founders_cnt  default_12m\n",
              "0      198         50000.0                2            0\n",
              "1      256         10000.0                5            0\n",
              "2       33         10000.0                2            0\n",
              "3      185        300000.0                1            0\n",
              "4      220         10000.0                2            0"
            ],
            "text/html": [
              "\n",
              "  <div id=\"df-b8037c52-f277-4c62-a7e9-032c01b19935\">\n",
              "    <div class=\"colab-df-container\">\n",
              "      <div>\n",
              "<style scoped>\n",
              "    .dataframe tbody tr th:only-of-type {\n",
              "        vertical-align: middle;\n",
              "    }\n",
              "\n",
              "    .dataframe tbody tr th {\n",
              "        vertical-align: top;\n",
              "    }\n",
              "\n",
              "    .dataframe thead th {\n",
              "        text-align: right;\n",
              "    }\n",
              "</style>\n",
              "<table border=\"1\" class=\"dataframe\">\n",
              "  <thead>\n",
              "    <tr style=\"text-align: right;\">\n",
              "      <th></th>\n",
              "      <th>bus_age</th>\n",
              "      <th>ul_capital_sum</th>\n",
              "      <th>ul_founders_cnt</th>\n",
              "      <th>default_12m</th>\n",
              "    </tr>\n",
              "  </thead>\n",
              "  <tbody>\n",
              "    <tr>\n",
              "      <th>0</th>\n",
              "      <td>198</td>\n",
              "      <td>50000.0</td>\n",
              "      <td>2</td>\n",
              "      <td>0</td>\n",
              "    </tr>\n",
              "    <tr>\n",
              "      <th>1</th>\n",
              "      <td>256</td>\n",
              "      <td>10000.0</td>\n",
              "      <td>5</td>\n",
              "      <td>0</td>\n",
              "    </tr>\n",
              "    <tr>\n",
              "      <th>2</th>\n",
              "      <td>33</td>\n",
              "      <td>10000.0</td>\n",
              "      <td>2</td>\n",
              "      <td>0</td>\n",
              "    </tr>\n",
              "    <tr>\n",
              "      <th>3</th>\n",
              "      <td>185</td>\n",
              "      <td>300000.0</td>\n",
              "      <td>1</td>\n",
              "      <td>0</td>\n",
              "    </tr>\n",
              "    <tr>\n",
              "      <th>4</th>\n",
              "      <td>220</td>\n",
              "      <td>10000.0</td>\n",
              "      <td>2</td>\n",
              "      <td>0</td>\n",
              "    </tr>\n",
              "  </tbody>\n",
              "</table>\n",
              "</div>\n",
              "      <button class=\"colab-df-convert\" onclick=\"convertToInteractive('df-b8037c52-f277-4c62-a7e9-032c01b19935')\"\n",
              "              title=\"Convert this dataframe to an interactive table.\"\n",
              "              style=\"display:none;\">\n",
              "        \n",
              "  <svg xmlns=\"http://www.w3.org/2000/svg\" height=\"24px\"viewBox=\"0 0 24 24\"\n",
              "       width=\"24px\">\n",
              "    <path d=\"M0 0h24v24H0V0z\" fill=\"none\"/>\n",
              "    <path d=\"M18.56 5.44l.94 2.06.94-2.06 2.06-.94-2.06-.94-.94-2.06-.94 2.06-2.06.94zm-11 1L8.5 8.5l.94-2.06 2.06-.94-2.06-.94L8.5 2.5l-.94 2.06-2.06.94zm10 10l.94 2.06.94-2.06 2.06-.94-2.06-.94-.94-2.06-.94 2.06-2.06.94z\"/><path d=\"M17.41 7.96l-1.37-1.37c-.4-.4-.92-.59-1.43-.59-.52 0-1.04.2-1.43.59L10.3 9.45l-7.72 7.72c-.78.78-.78 2.05 0 2.83L4 21.41c.39.39.9.59 1.41.59.51 0 1.02-.2 1.41-.59l7.78-7.78 2.81-2.81c.8-.78.8-2.07 0-2.86zM5.41 20L4 18.59l7.72-7.72 1.47 1.35L5.41 20z\"/>\n",
              "  </svg>\n",
              "      </button>\n",
              "      \n",
              "  <style>\n",
              "    .colab-df-container {\n",
              "      display:flex;\n",
              "      flex-wrap:wrap;\n",
              "      gap: 12px;\n",
              "    }\n",
              "\n",
              "    .colab-df-convert {\n",
              "      background-color: #E8F0FE;\n",
              "      border: none;\n",
              "      border-radius: 50%;\n",
              "      cursor: pointer;\n",
              "      display: none;\n",
              "      fill: #1967D2;\n",
              "      height: 32px;\n",
              "      padding: 0 0 0 0;\n",
              "      width: 32px;\n",
              "    }\n",
              "\n",
              "    .colab-df-convert:hover {\n",
              "      background-color: #E2EBFA;\n",
              "      box-shadow: 0px 1px 2px rgba(60, 64, 67, 0.3), 0px 1px 3px 1px rgba(60, 64, 67, 0.15);\n",
              "      fill: #174EA6;\n",
              "    }\n",
              "\n",
              "    [theme=dark] .colab-df-convert {\n",
              "      background-color: #3B4455;\n",
              "      fill: #D2E3FC;\n",
              "    }\n",
              "\n",
              "    [theme=dark] .colab-df-convert:hover {\n",
              "      background-color: #434B5C;\n",
              "      box-shadow: 0px 1px 3px 1px rgba(0, 0, 0, 0.15);\n",
              "      filter: drop-shadow(0px 1px 2px rgba(0, 0, 0, 0.3));\n",
              "      fill: #FFFFFF;\n",
              "    }\n",
              "  </style>\n",
              "\n",
              "      <script>\n",
              "        const buttonEl =\n",
              "          document.querySelector('#df-b8037c52-f277-4c62-a7e9-032c01b19935 button.colab-df-convert');\n",
              "        buttonEl.style.display =\n",
              "          google.colab.kernel.accessAllowed ? 'block' : 'none';\n",
              "\n",
              "        async function convertToInteractive(key) {\n",
              "          const element = document.querySelector('#df-b8037c52-f277-4c62-a7e9-032c01b19935');\n",
              "          const dataTable =\n",
              "            await google.colab.kernel.invokeFunction('convertToInteractive',\n",
              "                                                     [key], {});\n",
              "          if (!dataTable) return;\n",
              "\n",
              "          const docLinkHtml = 'Like what you see? Visit the ' +\n",
              "            '<a target=\"_blank\" href=https://colab.research.google.com/notebooks/data_table.ipynb>data table notebook</a>'\n",
              "            + ' to learn more about interactive tables.';\n",
              "          element.innerHTML = '';\n",
              "          dataTable['output_type'] = 'display_data';\n",
              "          await google.colab.output.renderOutput(dataTable, element);\n",
              "          const docLink = document.createElement('div');\n",
              "          docLink.innerHTML = docLinkHtml;\n",
              "          element.appendChild(docLink);\n",
              "        }\n",
              "      </script>\n",
              "    </div>\n",
              "  </div>\n",
              "  "
            ]
          },
          "metadata": {},
          "execution_count": 14
        }
      ],
      "source": [
        "features_df.head()"
      ]
    },
    {
      "cell_type": "markdown",
      "metadata": {
        "id": "zsaqlg0rN92k"
      },
      "source": [
        "### Построим карту коллеряций"
      ]
    },
    {
      "cell_type": "code",
      "execution_count": 15,
      "metadata": {
        "colab": {
          "base_uri": "https://localhost:8080/",
          "height": 173
        },
        "id": "PuTGDJNlN92l",
        "outputId": "e0df54bf-3b38-4e0a-f902-eacff7e2c82a"
      },
      "outputs": [
        {
          "output_type": "execute_result",
          "data": {
            "text/plain": [
              "                  bus_age  ul_capital_sum  ul_founders_cnt  default_12m\n",
              "bus_age          1.000000        0.066929         0.209451    -0.109389\n",
              "ul_capital_sum   0.066929        1.000000         0.029165    -0.019452\n",
              "ul_founders_cnt  0.209451        0.029165         1.000000    -0.023244\n",
              "default_12m     -0.109389       -0.019452        -0.023244     1.000000"
            ],
            "text/html": [
              "\n",
              "  <div id=\"df-54174348-3d68-403c-9417-943a125a36eb\">\n",
              "    <div class=\"colab-df-container\">\n",
              "      <div>\n",
              "<style scoped>\n",
              "    .dataframe tbody tr th:only-of-type {\n",
              "        vertical-align: middle;\n",
              "    }\n",
              "\n",
              "    .dataframe tbody tr th {\n",
              "        vertical-align: top;\n",
              "    }\n",
              "\n",
              "    .dataframe thead th {\n",
              "        text-align: right;\n",
              "    }\n",
              "</style>\n",
              "<table border=\"1\" class=\"dataframe\">\n",
              "  <thead>\n",
              "    <tr style=\"text-align: right;\">\n",
              "      <th></th>\n",
              "      <th>bus_age</th>\n",
              "      <th>ul_capital_sum</th>\n",
              "      <th>ul_founders_cnt</th>\n",
              "      <th>default_12m</th>\n",
              "    </tr>\n",
              "  </thead>\n",
              "  <tbody>\n",
              "    <tr>\n",
              "      <th>bus_age</th>\n",
              "      <td>1.000000</td>\n",
              "      <td>0.066929</td>\n",
              "      <td>0.209451</td>\n",
              "      <td>-0.109389</td>\n",
              "    </tr>\n",
              "    <tr>\n",
              "      <th>ul_capital_sum</th>\n",
              "      <td>0.066929</td>\n",
              "      <td>1.000000</td>\n",
              "      <td>0.029165</td>\n",
              "      <td>-0.019452</td>\n",
              "    </tr>\n",
              "    <tr>\n",
              "      <th>ul_founders_cnt</th>\n",
              "      <td>0.209451</td>\n",
              "      <td>0.029165</td>\n",
              "      <td>1.000000</td>\n",
              "      <td>-0.023244</td>\n",
              "    </tr>\n",
              "    <tr>\n",
              "      <th>default_12m</th>\n",
              "      <td>-0.109389</td>\n",
              "      <td>-0.019452</td>\n",
              "      <td>-0.023244</td>\n",
              "      <td>1.000000</td>\n",
              "    </tr>\n",
              "  </tbody>\n",
              "</table>\n",
              "</div>\n",
              "      <button class=\"colab-df-convert\" onclick=\"convertToInteractive('df-54174348-3d68-403c-9417-943a125a36eb')\"\n",
              "              title=\"Convert this dataframe to an interactive table.\"\n",
              "              style=\"display:none;\">\n",
              "        \n",
              "  <svg xmlns=\"http://www.w3.org/2000/svg\" height=\"24px\"viewBox=\"0 0 24 24\"\n",
              "       width=\"24px\">\n",
              "    <path d=\"M0 0h24v24H0V0z\" fill=\"none\"/>\n",
              "    <path d=\"M18.56 5.44l.94 2.06.94-2.06 2.06-.94-2.06-.94-.94-2.06-.94 2.06-2.06.94zm-11 1L8.5 8.5l.94-2.06 2.06-.94-2.06-.94L8.5 2.5l-.94 2.06-2.06.94zm10 10l.94 2.06.94-2.06 2.06-.94-2.06-.94-.94-2.06-.94 2.06-2.06.94z\"/><path d=\"M17.41 7.96l-1.37-1.37c-.4-.4-.92-.59-1.43-.59-.52 0-1.04.2-1.43.59L10.3 9.45l-7.72 7.72c-.78.78-.78 2.05 0 2.83L4 21.41c.39.39.9.59 1.41.59.51 0 1.02-.2 1.41-.59l7.78-7.78 2.81-2.81c.8-.78.8-2.07 0-2.86zM5.41 20L4 18.59l7.72-7.72 1.47 1.35L5.41 20z\"/>\n",
              "  </svg>\n",
              "      </button>\n",
              "      \n",
              "  <style>\n",
              "    .colab-df-container {\n",
              "      display:flex;\n",
              "      flex-wrap:wrap;\n",
              "      gap: 12px;\n",
              "    }\n",
              "\n",
              "    .colab-df-convert {\n",
              "      background-color: #E8F0FE;\n",
              "      border: none;\n",
              "      border-radius: 50%;\n",
              "      cursor: pointer;\n",
              "      display: none;\n",
              "      fill: #1967D2;\n",
              "      height: 32px;\n",
              "      padding: 0 0 0 0;\n",
              "      width: 32px;\n",
              "    }\n",
              "\n",
              "    .colab-df-convert:hover {\n",
              "      background-color: #E2EBFA;\n",
              "      box-shadow: 0px 1px 2px rgba(60, 64, 67, 0.3), 0px 1px 3px 1px rgba(60, 64, 67, 0.15);\n",
              "      fill: #174EA6;\n",
              "    }\n",
              "\n",
              "    [theme=dark] .colab-df-convert {\n",
              "      background-color: #3B4455;\n",
              "      fill: #D2E3FC;\n",
              "    }\n",
              "\n",
              "    [theme=dark] .colab-df-convert:hover {\n",
              "      background-color: #434B5C;\n",
              "      box-shadow: 0px 1px 3px 1px rgba(0, 0, 0, 0.15);\n",
              "      filter: drop-shadow(0px 1px 2px rgba(0, 0, 0, 0.3));\n",
              "      fill: #FFFFFF;\n",
              "    }\n",
              "  </style>\n",
              "\n",
              "      <script>\n",
              "        const buttonEl =\n",
              "          document.querySelector('#df-54174348-3d68-403c-9417-943a125a36eb button.colab-df-convert');\n",
              "        buttonEl.style.display =\n",
              "          google.colab.kernel.accessAllowed ? 'block' : 'none';\n",
              "\n",
              "        async function convertToInteractive(key) {\n",
              "          const element = document.querySelector('#df-54174348-3d68-403c-9417-943a125a36eb');\n",
              "          const dataTable =\n",
              "            await google.colab.kernel.invokeFunction('convertToInteractive',\n",
              "                                                     [key], {});\n",
              "          if (!dataTable) return;\n",
              "\n",
              "          const docLinkHtml = 'Like what you see? Visit the ' +\n",
              "            '<a target=\"_blank\" href=https://colab.research.google.com/notebooks/data_table.ipynb>data table notebook</a>'\n",
              "            + ' to learn more about interactive tables.';\n",
              "          element.innerHTML = '';\n",
              "          dataTable['output_type'] = 'display_data';\n",
              "          await google.colab.output.renderOutput(dataTable, element);\n",
              "          const docLink = document.createElement('div');\n",
              "          docLink.innerHTML = docLinkHtml;\n",
              "          element.appendChild(docLink);\n",
              "        }\n",
              "      </script>\n",
              "    </div>\n",
              "  </div>\n",
              "  "
            ]
          },
          "metadata": {},
          "execution_count": 15
        }
      ],
      "source": [
        "features_df.corr()"
      ]
    },
    {
      "cell_type": "markdown",
      "metadata": {
        "id": "DjygjQIM8u4Y"
      },
      "source": [
        "### Валидация результата"
      ]
    },
    {
      "cell_type": "code",
      "execution_count": 16,
      "metadata": {
        "colab": {
          "base_uri": "https://localhost:8080/"
        },
        "id": "NaH5PC4wN92n",
        "outputId": "0d9a25bc-f12e-4853-b546-c69e10d525aa"
      },
      "outputs": [
        {
          "output_type": "execute_result",
          "data": {
            "text/plain": [
              "0.6483643068016243"
            ]
          },
          "metadata": {},
          "execution_count": 16
        }
      ],
      "source": [
        "X_train, X_test, y_train, y_test = train_test_split(features_df.drop('default_12m',axis=1),\n",
        "                                                    features_df['default_12m'],\n",
        "                                                    random_state=42, shuffle=True)\n",
        "\n",
        "logit = LogisticRegression(C=1,solver='lbfgs',max_iter=1000)\n",
        "cv_baseline = cross_val_score(logit, X_train, y_train, cv=5, scoring='roc_auc').mean()\n",
        "cv_baseline"
      ]
    },
    {
      "cell_type": "markdown",
      "metadata": {
        "collapsed": true,
        "id": "13BN0BG1N92q"
      },
      "source": [
        "ROC/AUC бэйзлайн модели - 64,83%"
      ]
    },
    {
      "cell_type": "markdown",
      "metadata": {
        "id": "JKsc2E3d8_ZN"
      },
      "source": [
        "### Построение модели на всех данных"
      ]
    },
    {
      "cell_type": "code",
      "execution_count": 17,
      "metadata": {
        "colab": {
          "base_uri": "https://localhost:8080/"
        },
        "id": "8k4uVr9Q8sYs",
        "outputId": "ed7a9960-4b92-4dce-b659-9bd1e907b961"
      },
      "outputs": [
        {
          "output_type": "execute_result",
          "data": {
            "text/plain": [
              "LogisticRegression(C=1, max_iter=1000)"
            ]
          },
          "metadata": {},
          "execution_count": 17
        }
      ],
      "source": [
        "logit.fit(features_df.drop('default_12m',axis=1), features_df['default_12m'])"
      ]
    },
    {
      "cell_type": "markdown",
      "metadata": {
        "id": "OQ1Y1r6E9bvN"
      },
      "source": [
        "### Формирование файла с ответом"
      ]
    },
    {
      "cell_type": "code",
      "execution_count": 18,
      "metadata": {
        "id": "_9YdWZm8-7k0"
      },
      "outputs": [],
      "source": [
        "answ_df = test_df[['record_id']]"
      ]
    },
    {
      "cell_type": "code",
      "execution_count": 19,
      "metadata": {
        "colab": {
          "base_uri": "https://localhost:8080/"
        },
        "id": "RizmO5g4_wPO",
        "outputId": "6b0cf43c-9cd9-4ac9-ac69-072d3d89e190"
      },
      "outputs": [
        {
          "output_type": "stream",
          "name": "stderr",
          "text": [
            "/usr/local/lib/python3.7/dist-packages/ipykernel_launcher.py:1: SettingWithCopyWarning: \n",
            "A value is trying to be set on a copy of a slice from a DataFrame.\n",
            "Try using .loc[row_indexer,col_indexer] = value instead\n",
            "\n",
            "See the caveats in the documentation: https://pandas.pydata.org/pandas-docs/stable/user_guide/indexing.html#returning-a-view-versus-a-copy\n",
            "  \"\"\"Entry point for launching an IPython kernel.\n"
          ]
        }
      ],
      "source": [
        "answ_df['id'] = answ_df['record_id']"
      ]
    },
    {
      "cell_type": "code",
      "execution_count": 20,
      "metadata": {
        "colab": {
          "base_uri": "https://localhost:8080/"
        },
        "id": "r7fiDf_l9igh",
        "outputId": "ddd57177-31b4-43b4-fd9d-fa8b2f4f1ee3"
      },
      "outputs": [
        {
          "output_type": "stream",
          "name": "stderr",
          "text": [
            "/usr/local/lib/python3.7/dist-packages/pandas/core/frame.py:4913: SettingWithCopyWarning: \n",
            "A value is trying to be set on a copy of a slice from a DataFrame\n",
            "\n",
            "See the caveats in the documentation: https://pandas.pydata.org/pandas-docs/stable/user_guide/indexing.html#returning-a-view-versus-a-copy\n",
            "  errors=errors,\n"
          ]
        }
      ],
      "source": [
        "\n",
        "answ_df.drop('record_id',axis=1, inplace=True)"
      ]
    },
    {
      "cell_type": "code",
      "execution_count": 21,
      "metadata": {
        "id": "ye8YVTYG90_6"
      },
      "outputs": [],
      "source": [
        "cutoff = y_train.mean()"
      ]
    },
    {
      "cell_type": "code",
      "execution_count": 22,
      "metadata": {
        "colab": {
          "base_uri": "https://localhost:8080/"
        },
        "id": "GtV2vm1o9tMF",
        "outputId": "12de9252-cb59-47c3-b10b-963fb51e3ced"
      },
      "outputs": [
        {
          "output_type": "stream",
          "name": "stderr",
          "text": [
            "/usr/local/lib/python3.7/dist-packages/ipykernel_launcher.py:1: SettingWithCopyWarning: \n",
            "A value is trying to be set on a copy of a slice from a DataFrame.\n",
            "Try using .loc[row_indexer,col_indexer] = value instead\n",
            "\n",
            "See the caveats in the documentation: https://pandas.pydata.org/pandas-docs/stable/user_guide/indexing.html#returning-a-view-versus-a-copy\n",
            "  \"\"\"Entry point for launching an IPython kernel.\n"
          ]
        }
      ],
      "source": [
        "answ_df['predict'] = (logit.predict_proba(test_df.loc[:,features])[:,1]>cutoff).astype(int)"
      ]
    },
    {
      "cell_type": "code",
      "execution_count": 23,
      "metadata": {
        "id": "BAet0WO6-A_5"
      },
      "outputs": [],
      "source": [
        "answ_df.to_csv('PD-submit.csv',index=False, sep=';')"
      ]
    },
    {
      "cell_type": "code",
      "source": [
        "answ_df.to_csv('PD-submit.csv',index=False, sep=';')"
      ],
      "metadata": {
        "id": "0GDK6sbC9r3X"
      },
      "execution_count": 24,
      "outputs": []
    },
    {
      "cell_type": "markdown",
      "metadata": {
        "id": "G7OdXngvN92r"
      },
      "source": [
        "Для загрузки своего рузультата на https://dsbattle.com/hackathons/juniords-new/ вам нужно создать csv файл с двумя колонками (id, predict), разделитель - точка с запятой (;)"
      ]
    },
    {
      "cell_type": "markdown",
      "source": [
        "### Моя работа"
      ],
      "metadata": {
        "id": "VwZ0FqO4UkEc"
      }
    },
    {
      "cell_type": "code",
      "source": [
        "from sklearn.metrics import roc_auc_score, accuracy_score, make_scorer\n",
        "from sklearn.ensemble import RandomForestClassifier\n",
        "from sklearn.linear_model import RidgeClassifier\n",
        "from sklearn.model_selection import GridSearchCV\n",
        "import numpy as np\n",
        "import seaborn as sns\n",
        "from scipy import stats"
      ],
      "metadata": {
        "id": "C6EKEFVwhKQ5"
      },
      "execution_count": 25,
      "outputs": []
    },
    {
      "cell_type": "markdown",
      "source": [
        "Классы не сбалансированны"
      ],
      "metadata": {
        "id": "zYHegxR82koO"
      }
    },
    {
      "cell_type": "code",
      "source": [
        "plt.hist(train_df['default_12m'])\n",
        "plt.show()   "
      ],
      "metadata": {
        "colab": {
          "base_uri": "https://localhost:8080/",
          "height": 265
        },
        "id": "HKtKPwvYUqRf",
        "outputId": "04cde667-58fe-4cef-94b8-baba479baa0f"
      },
      "execution_count": 26,
      "outputs": [
        {
          "output_type": "display_data",
          "data": {
            "text/plain": [
              "<Figure size 432x288 with 1 Axes>"
            ],
            "image/png": "[encoded data removed]"
          },
          "metadata": {
            "needs_background": "light"
          }
        }
      ]
    },
    {
      "cell_type": "markdown",
      "source": [
        "Проверю признаки на нормальность"
      ],
      "metadata": {
        "id": "c826Rb8S2rGG"
      }
    },
    {
      "cell_type": "code",
      "source": [
        "for i in train_df.drop(['ul_staff_range'], axis = 1).columns:\n",
        "  print(i, stats.shapiro(train_df[i]))"
      ],
      "metadata": {
        "colab": {
          "base_uri": "https://localhost:8080/"
        },
        "id": "MsMSoGFZhYch",
        "outputId": "987d8cad-65c3-46ab-d01a-67c4d2c8a61a"
      },
      "execution_count": 27,
      "outputs": [
        {
          "output_type": "stream",
          "name": "stderr",
          "text": [
            "/usr/local/lib/python3.7/dist-packages/scipy/stats/morestats.py:1760: UserWarning: p-value may not be accurate for N > 5000.\n",
            "  warnings.warn(\"p-value may not be accurate for N > 5000.\")\n"
          ]
        },
        {
          "output_type": "stream",
          "name": "stdout",
          "text": [
            "record_id ShapiroResult(statistic=0.9546059370040894, pvalue=0.0)\n",
            "ar_revenue ShapiroResult(statistic=nan, pvalue=1.0)\n",
            "ar_total_expenses ShapiroResult(statistic=nan, pvalue=1.0)\n",
            "ar_sale_cost ShapiroResult(statistic=nan, pvalue=1.0)\n",
            "ar_selling_expenses ShapiroResult(statistic=nan, pvalue=1.0)\n",
            "ar_management_expenses ShapiroResult(statistic=nan, pvalue=1.0)\n",
            "ar_sale_profit ShapiroResult(statistic=nan, pvalue=1.0)\n",
            "ar_balance_of_rvns_and_expns ShapiroResult(statistic=nan, pvalue=1.0)\n",
            "ar_profit_before_tax ShapiroResult(statistic=nan, pvalue=1.0)\n",
            "ar_taxes ShapiroResult(statistic=nan, pvalue=1.0)\n",
            "ar_other_profit_and_losses ShapiroResult(statistic=nan, pvalue=1.0)\n",
            "ar_net_profit ShapiroResult(statistic=nan, pvalue=1.0)\n",
            "ab_immobilized_assets ShapiroResult(statistic=nan, pvalue=1.0)\n",
            "ab_mobile_current_assets ShapiroResult(statistic=nan, pvalue=1.0)\n",
            "ab_inventory ShapiroResult(statistic=nan, pvalue=1.0)\n",
            "ab_accounts_receivable ShapiroResult(statistic=nan, pvalue=1.0)\n",
            "ab_other_current_assets ShapiroResult(statistic=nan, pvalue=1.0)\n",
            "ab_cash_and_securities ShapiroResult(statistic=nan, pvalue=1.0)\n",
            "ab_losses ShapiroResult(statistic=nan, pvalue=1.0)\n",
            "ab_own_capital ShapiroResult(statistic=nan, pvalue=1.0)\n",
            "ab_borrowed_capital ShapiroResult(statistic=nan, pvalue=1.0)\n",
            "ab_long_term_liabilities ShapiroResult(statistic=nan, pvalue=1.0)\n",
            "ab_short_term_borrowing ShapiroResult(statistic=nan, pvalue=1.0)\n",
            "ab_accounts_payable ShapiroResult(statistic=nan, pvalue=1.0)\n",
            "ab_other_borrowings ShapiroResult(statistic=nan, pvalue=1.0)\n",
            "bus_age ShapiroResult(statistic=0.8945310115814209, pvalue=0.0)\n",
            "ogrn_age ShapiroResult(statistic=0.9076119065284729, pvalue=0.0)\n",
            "adr_actual_age ShapiroResult(statistic=0.9275942444801331, pvalue=0.0)\n",
            "head_actual_age ShapiroResult(statistic=0.9275942444801331, pvalue=0.0)\n",
            "cap_actual_age ShapiroResult(statistic=0.9275942444801331, pvalue=0.0)\n",
            "ul_capital_sum ShapiroResult(statistic=0.05692887306213379, pvalue=0.0)\n",
            "ul_founders_cnt ShapiroResult(statistic=0.1019544005393982, pvalue=0.0)\n",
            "ul_branch_cnt ShapiroResult(statistic=0.03623247146606445, pvalue=0.0)\n",
            "ul_strategic_flg ShapiroResult(statistic=0.0014916658401489258, pvalue=0.0)\n",
            "ul_systematizing_flg ShapiroResult(statistic=1.0, pvalue=1.0)\n",
            "default_12m ShapiroResult(statistic=0.2633686065673828, pvalue=0.0)\n"
          ]
        },
        {
          "output_type": "stream",
          "name": "stderr",
          "text": [
            "/usr/local/lib/python3.7/dist-packages/scipy/stats/morestats.py:1757: UserWarning: Input data for shapiro has range zero. The results may not be accurate.\n",
            "  warnings.warn(\"Input data for shapiro has range zero. The results \"\n"
          ]
        }
      ]
    },
    {
      "cell_type": "code",
      "source": [
        "not_norm_feach = ['bus_age', 'ogrn_age', 'adr_actual_age', 'head_actual_age', 'cap_actual_age', 'ul_capital_sum', 'ul_founders_cn', 'ul_branch_cnt', 'ul_strategic_flg']\n",
        "norm_feach = ['ar_revenue',\n",
        " 'ar_management_expenses',\n",
        " 'ar_net_profit',\n",
        " 'record_id',\n",
        " 'ab_immobilized_assets',\n",
        " 'ab_mobile_current_assets',\n",
        " 'ab_long_term_liabilities',\n",
        " 'ab_accounts_receivable',\n",
        " 'ul_founders_cnt',\n",
        " 'ar_profit_before_tax',\n",
        " 'ab_cash_and_securities',\n",
        " 'ab_own_capital',\n",
        " 'ab_borrowed_capital',\n",
        " 'ar_sale_cost',\n",
        " 'ab_other_borrowings',\n",
        " 'ar_sale_profit',\n",
        " 'ar_total_expenses',\n",
        " 'ab_other_current_assets',\n",
        " 'ar_taxes',\n",
        " 'ar_other_profit_and_losses',\n",
        " 'ab_losses',\n",
        " 'ar_selling_expenses',\n",
        " 'ul_systematizing_flg',\n",
        " 'ab_short_term_borrowing',\n",
        " 'ab_inventory',\n",
        " 'ar_balance_of_rvns_and_expns',\n",
        " 'ab_accounts_payable']"
      ],
      "metadata": {
        "id": "wiHRDSalko3J"
      },
      "execution_count": 28,
      "outputs": []
    },
    {
      "cell_type": "markdown",
      "source": [
        "Проведу диспресионный анализ с трейном и тестом, проведу отбор признаков"
      ],
      "metadata": {
        "id": "Xj7rTYI23AY3"
      }
    },
    {
      "cell_type": "code",
      "source": [
        "for i in norm_feach:\n",
        "  print(i, stats.f_oneway(train_df[i].dropna(), test_df.dropna()[i]))"
      ],
      "metadata": {
        "colab": {
          "base_uri": "https://localhost:8080/"
        },
        "id": "_-CUSnk5llN-",
        "outputId": "1f7fb40c-eaee-479c-c66a-4a7bf768f802"
      },
      "execution_count": 29,
      "outputs": [
        {
          "output_type": "stream",
          "name": "stdout",
          "text": [
            "ar_revenue F_onewayResult(statistic=0.11175311691884997, pvalue=0.7381610423218125)\n",
            "ar_management_expenses F_onewayResult(statistic=1.845071468918922, pvalue=0.17437538310139195)\n",
            "ar_net_profit F_onewayResult(statistic=0.07846727007799659, pvalue=0.779388708096403)\n",
            "record_id F_onewayResult(statistic=0.003358907724731897, pvalue=0.9537839657948298)\n",
            "ab_immobilized_assets F_onewayResult(statistic=0.014454020181279345, pvalue=0.904306408261559)\n",
            "ab_mobile_current_assets F_onewayResult(statistic=0.26526436855336316, pvalue=0.6065328811141789)\n",
            "ab_long_term_liabilities F_onewayResult(statistic=0.2804265430511945, pvalue=0.596428564957441)\n",
            "ab_accounts_receivable F_onewayResult(statistic=0.03218851689066133, pvalue=0.8576166328126035)\n",
            "ul_founders_cnt F_onewayResult(statistic=0.02538062344815004, pvalue=0.87342329084506)\n",
            "ar_profit_before_tax F_onewayResult(statistic=0.06386427621863909, pvalue=0.8004923627755307)\n",
            "ab_cash_and_securities F_onewayResult(statistic=0.4416384240109131, pvalue=0.5063415584880415)\n",
            "ab_own_capital F_onewayResult(statistic=1.0317980634507478, pvalue=0.3097509089446042)\n",
            "ab_borrowed_capital F_onewayResult(statistic=0.5872329552360848, pvalue=0.4435015546438065)\n",
            "ar_sale_cost F_onewayResult(statistic=0.08540972391550616, pvalue=0.7700994262898561)\n",
            "ab_other_borrowings F_onewayResult(statistic=0.27606207127278387, pvalue=0.5993006904150361)\n",
            "ar_sale_profit F_onewayResult(statistic=0.05339155117898825, pvalue=0.817266164092649)\n",
            "ar_total_expenses F_onewayResult(statistic=0.14712260782339498, pvalue=0.7013051086884305)\n",
            "ab_other_current_assets F_onewayResult(statistic=0.23411661962796146, pvalue=0.6284941893235085)\n",
            "ar_taxes F_onewayResult(statistic=0.017924813158333972, pvalue=0.8934961887952233)\n",
            "ar_other_profit_and_losses F_onewayResult(statistic=0.2086346101220189, pvalue=0.6478454186095248)\n",
            "ab_losses F_onewayResult(statistic=0.04050710148704788, pvalue=0.8404946993516057)\n",
            "ar_selling_expenses F_onewayResult(statistic=0.04248207603765945, pvalue=0.836705999094653)\n",
            "ul_systematizing_flg F_onewayResult(statistic=nan, pvalue=nan)\n",
            "ab_short_term_borrowing F_onewayResult(statistic=2.1496290407101695, pvalue=0.14262248511633133)\n",
            "ab_inventory F_onewayResult(statistic=0.6328584070857827, pvalue=0.4263196616252686)\n",
            "ar_balance_of_rvns_and_expns F_onewayResult(statistic=0.004697729467166385, pvalue=0.9453565826624968)\n",
            "ab_accounts_payable F_onewayResult(statistic=0.24060789718627748, pvalue=0.6237736141861694)\n"
          ]
        },
        {
          "output_type": "stream",
          "name": "stderr",
          "text": [
            "/usr/local/lib/python3.7/dist-packages/scipy/stats/stats.py:3650: F_onewayConstantInputWarning: Each of the input arrays is constant;the F statistic is not defined or infinite\n",
            "  warnings.warn(F_onewayConstantInputWarning())\n"
          ]
        }
      ]
    },
    {
      "cell_type": "code",
      "source": [
        "new_feach = ['ar_revenue',\n",
        " 'ar_net_profit',\n",
        " 'record_id',\n",
        " 'ab_immobilized_assets',\n",
        " 'ab_mobile_current_assets',\n",
        " 'ab_long_term_liabilities',\n",
        " 'ab_accounts_receivable',\n",
        " 'ul_founders_cnt',\n",
        " 'ar_profit_before_tax',\n",
        " 'ab_cash_and_securities',\n",
        " 'ab_borrowed_capital',\n",
        " 'ar_sale_cost',\n",
        " 'ab_other_borrowings',\n",
        " 'ar_sale_profit',\n",
        " 'ar_total_expenses',\n",
        " 'ab_other_current_assets',\n",
        " 'ar_taxes',\n",
        " 'ar_other_profit_and_losses',\n",
        " 'ab_losses',\n",
        " 'ar_selling_expenses',\n",
        " 'ab_inventory',\n",
        " 'ar_balance_of_rvns_and_expns',\n",
        " 'ab_accounts_payable']"
      ],
      "metadata": {
        "id": "XBRBOpjgngzm"
      },
      "execution_count": 30,
      "outputs": []
    },
    {
      "cell_type": "code",
      "source": [
        "new_feach.append('default_12m')"
      ],
      "metadata": {
        "id": "_7CRZVeUqKcc"
      },
      "execution_count": 31,
      "outputs": []
    },
    {
      "cell_type": "code",
      "source": [
        "new_train_na = train_df[new_feach]"
      ],
      "metadata": {
        "id": "BfB2Fta9oTBw"
      },
      "execution_count": 32,
      "outputs": []
    },
    {
      "cell_type": "code",
      "source": [
        "new_train_na.info()"
      ],
      "metadata": {
        "colab": {
          "base_uri": "https://localhost:8080/"
        },
        "id": "LnxBB8Mh3IGg",
        "outputId": "6dfcdf11-95cf-4906-d4d8-4e4e63ea015a"
      },
      "execution_count": 33,
      "outputs": [
        {
          "output_type": "stream",
          "name": "stdout",
          "text": [
            "<class 'pandas.core.frame.DataFrame'>\n",
            "RangeIndex: 32395 entries, 0 to 32394\n",
            "Data columns (total 24 columns):\n",
            " #   Column                        Non-Null Count  Dtype  \n",
            "---  ------                        --------------  -----  \n",
            " 0   ar_revenue                    17250 non-null  float64\n",
            " 1   ar_net_profit                 17250 non-null  float64\n",
            " 2   record_id                     32395 non-null  int64  \n",
            " 3   ab_immobilized_assets         17250 non-null  float64\n",
            " 4   ab_mobile_current_assets      17250 non-null  float64\n",
            " 5   ab_long_term_liabilities      17250 non-null  float64\n",
            " 6   ab_accounts_receivable        17250 non-null  float64\n",
            " 7   ul_founders_cnt               32395 non-null  int64  \n",
            " 8   ar_profit_before_tax          17250 non-null  float64\n",
            " 9   ab_cash_and_securities        17250 non-null  float64\n",
            " 10  ab_borrowed_capital           17250 non-null  float64\n",
            " 11  ar_sale_cost                  17250 non-null  float64\n",
            " 12  ab_other_borrowings           17250 non-null  float64\n",
            " 13  ar_sale_profit                17250 non-null  float64\n",
            " 14  ar_total_expenses             17250 non-null  float64\n",
            " 15  ab_other_current_assets       17250 non-null  float64\n",
            " 16  ar_taxes                      17250 non-null  float64\n",
            " 17  ar_other_profit_and_losses    17250 non-null  float64\n",
            " 18  ab_losses                     17250 non-null  float64\n",
            " 19  ar_selling_expenses           17250 non-null  float64\n",
            " 20  ab_inventory                  17250 non-null  float64\n",
            " 21  ar_balance_of_rvns_and_expns  17250 non-null  float64\n",
            " 22  ab_accounts_payable           17250 non-null  float64\n",
            " 23  default_12m                   32395 non-null  int64  \n",
            "dtypes: float64(21), int64(3)\n",
            "memory usage: 5.9 MB\n"
          ]
        }
      ]
    },
    {
      "cell_type": "markdown",
      "source": [
        "Ввиду малого кол-ва признаков без пропусков, удалю строки с пропусками"
      ],
      "metadata": {
        "id": "_i2Bz4v13Mq4"
      }
    },
    {
      "cell_type": "code",
      "source": [
        "new_train = new_train_na.dropna()"
      ],
      "metadata": {
        "id": "jA3VGcODqH-e"
      },
      "execution_count": 34,
      "outputs": []
    },
    {
      "cell_type": "code",
      "source": [
        "X_df = new_train.drop('default_12m',axis=1)\n",
        "y_df = new_train['default_12m']\n",
        "\n",
        "X_train, X_test, y_train, y_test = train_test_split(X_df, y_df, test_size = 0.2, random_state=42, shuffle=True)"
      ],
      "metadata": {
        "id": "nJ_nWUvprI60"
      },
      "execution_count": 455,
      "outputs": []
    },
    {
      "cell_type": "markdown",
      "source": [
        "Построю тестовую модель "
      ],
      "metadata": {
        "id": "F_BX2rF23Vp-"
      }
    },
    {
      "cell_type": "code",
      "source": [
        "model = RandomForestClassifier(max_depth = 10)"
      ],
      "metadata": {
        "id": "C_VA-oUoqrKZ"
      },
      "execution_count": 456,
      "outputs": []
    },
    {
      "cell_type": "code",
      "source": [
        "model.fit(X_train, y_train)"
      ],
      "metadata": {
        "colab": {
          "base_uri": "https://localhost:8080/"
        },
        "id": "SlniLn_HrfNP",
        "outputId": "b2a01a00-3045-4e74-fe9b-f5d0eb51ece9"
      },
      "execution_count": 457,
      "outputs": [
        {
          "output_type": "execute_result",
          "data": {
            "text/plain": [
              "RandomForestClassifier(max_depth=10)"
            ]
          },
          "metadata": {},
          "execution_count": 457
        }
      ]
    },
    {
      "cell_type": "code",
      "source": [
        "print('train', roc_auc_score(model.predict(X_train), y_train))\n",
        "print('test', roc_auc_score(model.predict(X_test), y_test))"
      ],
      "metadata": {
        "colab": {
          "base_uri": "https://localhost:8080/"
        },
        "id": "xYKr3cJJrmSa",
        "outputId": "d4a04afe-cdb5-4993-b8e7-913ccca76bf8"
      },
      "execution_count": 458,
      "outputs": [
        {
          "output_type": "stream",
          "name": "stdout",
          "text": [
            "train 0.9781708557315124\n",
            "test 0.9772199651770168\n"
          ]
        }
      ]
    },
    {
      "cell_type": "markdown",
      "source": [
        "Довольно неплохой результат, проверим на заполненных средним данных"
      ],
      "metadata": {
        "id": "0lg2olKB5hz4"
      }
    },
    {
      "cell_type": "code",
      "source": [
        "all_na_train = new_train_na[new_train_na['ar_net_profit'].isna() == True]"
      ],
      "metadata": {
        "id": "Hhe8eqyH7b7v"
      },
      "execution_count": 39,
      "outputs": []
    },
    {
      "cell_type": "code",
      "source": [
        "fillna_train = all_na_train.fillna(pd.concat([train_df, test_df]).mean())"
      ],
      "metadata": {
        "colab": {
          "base_uri": "https://localhost:8080/"
        },
        "id": "jYl-YAi_56Vn",
        "outputId": "c33dd64d-3c79-47d4-9615-6288eddfb7d0"
      },
      "execution_count": 40,
      "outputs": [
        {
          "output_type": "stream",
          "name": "stderr",
          "text": [
            "/usr/local/lib/python3.7/dist-packages/ipykernel_launcher.py:1: FutureWarning: Dropping of nuisance columns in DataFrame reductions (with 'numeric_only=None') is deprecated; in a future version this will raise TypeError.  Select only valid columns before calling the reduction.\n",
            "  \"\"\"Entry point for launching an IPython kernel.\n"
          ]
        }
      ]
    },
    {
      "cell_type": "code",
      "source": [
        "X_temp = fillna_train.drop('default_12m', axis = 1)\n",
        "y_temp = fillna_train['default_12m']"
      ],
      "metadata": {
        "id": "jhlVjfJA8Tfp"
      },
      "execution_count": 41,
      "outputs": []
    },
    {
      "cell_type": "code",
      "source": [
        "model.predict(X_temp).sum()"
      ],
      "metadata": {
        "colab": {
          "base_uri": "https://localhost:8080/"
        },
        "id": "zlaQa8C-7L8w",
        "outputId": "2d97cc80-4c15-4949-9290-d3dc2b687b11"
      },
      "execution_count": 42,
      "outputs": [
        {
          "output_type": "execute_result",
          "data": {
            "text/plain": [
              "0"
            ]
          },
          "metadata": {},
          "execution_count": 42
        }
      ]
    },
    {
      "cell_type": "markdown",
      "source": [
        "Модель ПЛОХО работает на незаполненных данных"
      ],
      "metadata": {
        "id": "N20rmF-G9B2r"
      }
    },
    {
      "cell_type": "code",
      "source": [
        "model.feature_importances_"
      ],
      "metadata": {
        "colab": {
          "base_uri": "https://localhost:8080/"
        },
        "id": "u0FSo5hE9dNB",
        "outputId": "956d54f3-4907-472b-e3e7-65267f983c7a"
      },
      "execution_count": 43,
      "outputs": [
        {
          "output_type": "execute_result",
          "data": {
            "text/plain": [
              "array([0.0558506 , 0.05480195, 0.09023038, 0.0152962 , 0.0599116 ,\n",
              "       0.01662885, 0.05468077, 0.01709183, 0.05535678, 0.06154165,\n",
              "       0.05424378, 0.05538118, 0.0114097 , 0.05314058, 0.0578012 ,\n",
              "       0.01183966, 0.04162339, 0.00586746, 0.05461652, 0.01309493,\n",
              "       0.0584002 , 0.04841029, 0.05278048])"
            ]
          },
          "metadata": {},
          "execution_count": 43
        }
      ]
    },
    {
      "cell_type": "markdown",
      "source": [
        "Это же подтверждается feature_importances"
      ],
      "metadata": {
        "id": "YAOMt35w9lIW"
      }
    },
    {
      "cell_type": "markdown",
      "source": [
        "Построю модель на сбалансированных данных"
      ],
      "metadata": {
        "id": "EkFC-BVj2ckn"
      }
    },
    {
      "cell_type": "code",
      "source": [
        "balanced_train = pd.concat([new_train[new_train['default_12m'] == 1], new_train[new_train['default_12m'] == 0].sample(2400)])"
      ],
      "metadata": {
        "id": "icRrG_CMzf-a"
      },
      "execution_count": 460,
      "outputs": []
    },
    {
      "cell_type": "code",
      "source": [
        "X_df = balanced_train.drop('default_12m',axis=1)\n",
        "y_df = balanced_train['default_12m']\n",
        "\n",
        "X_train, X_test, y_train, y_test = train_test_split(X_df, y_df, test_size = 0.2, random_state=42, shuffle=True)"
      ],
      "metadata": {
        "id": "TeHzPAlXz-FC"
      },
      "execution_count": 461,
      "outputs": []
    },
    {
      "cell_type": "code",
      "source": [
        "balanced_model = RandomForestClassifier(max_depth = 10)"
      ],
      "metadata": {
        "id": "e156lzy80byo"
      },
      "execution_count": 462,
      "outputs": []
    },
    {
      "cell_type": "code",
      "source": [
        "balanced_model.fit(X_train, y_train)"
      ],
      "metadata": {
        "colab": {
          "base_uri": "https://localhost:8080/"
        },
        "id": "-pm4untC017t",
        "outputId": "0f29ae54-8381-4185-b80a-2237a4cd2993"
      },
      "execution_count": 463,
      "outputs": [
        {
          "output_type": "execute_result",
          "data": {
            "text/plain": [
              "RandomForestClassifier(max_depth=10)"
            ]
          },
          "metadata": {},
          "execution_count": 463
        }
      ]
    },
    {
      "cell_type": "code",
      "source": [
        "print('train', roc_auc_score(balanced_model.predict(X_train), y_train))\n",
        "print('test', roc_auc_score(balanced_model.predict(X_test), y_test))"
      ],
      "metadata": {
        "colab": {
          "base_uri": "https://localhost:8080/"
        },
        "id": "8zokSam606Vq",
        "outputId": "dd6fbc12-21f7-49e3-f7ac-d9a7966b5083"
      },
      "execution_count": 464,
      "outputs": [
        {
          "output_type": "stream",
          "name": "stdout",
          "text": [
            "train 0.9229753521126761\n",
            "test 0.7064935064935065\n"
          ]
        }
      ]
    },
    {
      "cell_type": "markdown",
      "source": [
        "Учитывая что тест выборка довольно маленькая, посмотрим метрику на всех данных"
      ],
      "metadata": {
        "id": "B1TlTBd-3yLs"
      }
    },
    {
      "cell_type": "code",
      "source": [
        "roc_auc_score(balanced_model.predict(new_train.drop('default_12m', axis = 1)), new_train['default_12m'])"
      ],
      "metadata": {
        "colab": {
          "base_uri": "https://localhost:8080/"
        },
        "id": "lptN-gjr3xcl",
        "outputId": "22cedc50-30b6-4c72-d29c-56e14a549d68"
      },
      "execution_count": 465,
      "outputs": [
        {
          "output_type": "execute_result",
          "data": {
            "text/plain": [
              "0.7477505472813841"
            ]
          },
          "metadata": {},
          "execution_count": 465
        }
      ]
    },
    {
      "cell_type": "code",
      "source": [
        "balanced_model.predict(X_temp).sum()"
      ],
      "metadata": {
        "colab": {
          "base_uri": "https://localhost:8080/"
        },
        "id": "TYrD5ZC-9tr3",
        "outputId": "59655fd7-a4cc-4c4e-d61b-6da63b914919"
      },
      "execution_count": 466,
      "outputs": [
        {
          "output_type": "execute_result",
          "data": {
            "text/plain": [
              "0"
            ]
          },
          "metadata": {},
          "execution_count": 466
        }
      ]
    },
    {
      "cell_type": "markdown",
      "source": [
        "Обе модели дают плохой результат на данных с пропусками, построю отдельную модель для таких данных"
      ],
      "metadata": {
        "id": "i5TmAGMs-ZiW"
      }
    },
    {
      "cell_type": "code",
      "source": [
        "train_df.info()"
      ],
      "metadata": {
        "colab": {
          "base_uri": "https://localhost:8080/"
        },
        "id": "RhMy2yp-j2x9",
        "outputId": "3b37e985-37c4-4912-825a-1a7b319e6e64"
      },
      "execution_count": 467,
      "outputs": [
        {
          "output_type": "stream",
          "name": "stdout",
          "text": [
            "<class 'pandas.core.frame.DataFrame'>\n",
            "RangeIndex: 32395 entries, 0 to 32394\n",
            "Data columns (total 37 columns):\n",
            " #   Column                        Non-Null Count  Dtype  \n",
            "---  ------                        --------------  -----  \n",
            " 0   record_id                     32395 non-null  int64  \n",
            " 1   ar_revenue                    17250 non-null  float64\n",
            " 2   ar_total_expenses             17250 non-null  float64\n",
            " 3   ar_sale_cost                  17250 non-null  float64\n",
            " 4   ar_selling_expenses           17250 non-null  float64\n",
            " 5   ar_management_expenses        17250 non-null  float64\n",
            " 6   ar_sale_profit                17250 non-null  float64\n",
            " 7   ar_balance_of_rvns_and_expns  17250 non-null  float64\n",
            " 8   ar_profit_before_tax          17250 non-null  float64\n",
            " 9   ar_taxes                      17250 non-null  float64\n",
            " 10  ar_other_profit_and_losses    17250 non-null  float64\n",
            " 11  ar_net_profit                 17250 non-null  float64\n",
            " 12  ab_immobilized_assets         17250 non-null  float64\n",
            " 13  ab_mobile_current_assets      17250 non-null  float64\n",
            " 14  ab_inventory                  17250 non-null  float64\n",
            " 15  ab_accounts_receivable        17250 non-null  float64\n",
            " 16  ab_other_current_assets       17250 non-null  float64\n",
            " 17  ab_cash_and_securities        17250 non-null  float64\n",
            " 18  ab_losses                     17250 non-null  float64\n",
            " 19  ab_own_capital                17250 non-null  float64\n",
            " 20  ab_borrowed_capital           17250 non-null  float64\n",
            " 21  ab_long_term_liabilities      17250 non-null  float64\n",
            " 22  ab_short_term_borrowing       17250 non-null  float64\n",
            " 23  ab_accounts_payable           17250 non-null  float64\n",
            " 24  ab_other_borrowings           17250 non-null  float64\n",
            " 25  bus_age                       32395 non-null  int64  \n",
            " 26  ogrn_age                      32395 non-null  int64  \n",
            " 27  adr_actual_age                32395 non-null  int64  \n",
            " 28  head_actual_age               32395 non-null  int64  \n",
            " 29  cap_actual_age                32395 non-null  int64  \n",
            " 30  ul_staff_range                32395 non-null  object \n",
            " 31  ul_capital_sum                32395 non-null  float64\n",
            " 32  ul_founders_cnt               32395 non-null  int64  \n",
            " 33  ul_branch_cnt                 32395 non-null  int64  \n",
            " 34  ul_strategic_flg              32395 non-null  int64  \n",
            " 35  ul_systematizing_flg          32395 non-null  int64  \n",
            " 36  default_12m                   32395 non-null  int64  \n",
            "dtypes: float64(25), int64(11), object(1)\n",
            "memory usage: 9.1+ MB\n"
          ]
        }
      ]
    },
    {
      "cell_type": "code",
      "source": [
        "feach_for_na = ['bus_age',\n",
        "                'ogrn_age',\n",
        "                'adr_actual_age',\n",
        "                'head_actual_age',\n",
        "                'cap_actual_age',\n",
        "                'ul_capital_sum',\n",
        "                'ul_founders_cnt',\n",
        "                'ul_branch_cnt',\n",
        "                'ul_strategic_flg',\n",
        "                'ul_systematizing_flg',\n",
        "                'default_12m']"
      ],
      "metadata": {
        "id": "l0jUw5Ivj6ql"
      },
      "execution_count": 516,
      "outputs": []
    },
    {
      "cell_type": "code",
      "source": [
        "na_train = train_df[feach_for_na]"
      ],
      "metadata": {
        "id": "hjGZIxSRkv9U"
      },
      "execution_count": 469,
      "outputs": []
    },
    {
      "cell_type": "code",
      "source": [
        "na_train = pd.concat([na_train[na_train['default_12m'] == 1], na_train[na_train['default_12m'] == 0].sample(4000)])"
      ],
      "metadata": {
        "id": "9LmLXN3LsTNm"
      },
      "execution_count": 471,
      "outputs": []
    },
    {
      "cell_type": "code",
      "source": [
        "X_df = na_train.drop('default_12m',axis=1)\n",
        "y_df = na_train['default_12m']\n",
        "\n",
        "X_train, X_test, y_train, y_test = train_test_split(X_df, y_df, test_size = 0.2, random_state=42, shuffle=True)"
      ],
      "metadata": {
        "id": "aPudVfmnk34Q"
      },
      "execution_count": 476,
      "outputs": []
    },
    {
      "cell_type": "code",
      "source": [
        "na_model = RandomForestClassifier(n_estimators = 30, max_depth = 10, criterion = 'gini')"
      ],
      "metadata": {
        "id": "3_oDZSSpk3_W"
      },
      "execution_count": 483,
      "outputs": []
    },
    {
      "cell_type": "code",
      "source": [
        "na_model.fit(X_train, y_train)"
      ],
      "metadata": {
        "colab": {
          "base_uri": "https://localhost:8080/"
        },
        "id": "NSE58PsVqoNO",
        "outputId": "d15c88c4-73eb-415d-d264-c5bcdb90b9bc"
      },
      "execution_count": 484,
      "outputs": [
        {
          "output_type": "execute_result",
          "data": {
            "text/plain": [
              "RandomForestClassifier(max_depth=10, n_estimators=30)"
            ]
          },
          "metadata": {},
          "execution_count": 484
        }
      ]
    },
    {
      "cell_type": "code",
      "source": [
        "print('test', roc_auc_score(na_model.predict(X_test), y_test))\n",
        "print('test', roc_auc_score(na_model.predict(X_train), y_train))"
      ],
      "metadata": {
        "colab": {
          "base_uri": "https://localhost:8080/"
        },
        "id": "maZEjyEkk4QE",
        "outputId": "070c69f5-a917-4a13-990b-192866e93b2e"
      },
      "execution_count": 485,
      "outputs": [
        {
          "output_type": "stream",
          "name": "stdout",
          "text": [
            "test 0.6305396635641705\n",
            "test 0.7899584294856058\n"
          ]
        }
      ]
    },
    {
      "cell_type": "code",
      "source": [
        "from tqdm import tqdm"
      ],
      "metadata": {
        "id": "e0OONDacDgWP"
      },
      "execution_count": 632,
      "outputs": []
    },
    {
      "cell_type": "markdown",
      "source": [
        "Довольно неплохо, напишем функцию full_predict для предсказаний"
      ],
      "metadata": {
        "id": "bqBIwLfh4ieC"
      }
    },
    {
      "cell_type": "code",
      "source": [
        "def full_predict(df, model1, model2, feach_for_na, new_feach):\n",
        "  ans = []\n",
        "  for i in tqdm(range(df.shape[0])):\n",
        "    string = df.iloc[[i]]\n",
        "    if np.isnan(df.iloc[i]['ar_revenue']):\n",
        "      ans.append(model1.predict(string[feach_for_na]))\n",
        "    else:\n",
        "      ans.append(model2.predict(string[new_feach]))\n",
        "  return ans"
      ],
      "metadata": {
        "id": "Vn0-Zs_E1RPO"
      },
      "execution_count": 643,
      "outputs": []
    },
    {
      "cell_type": "code",
      "source": [
        "f1 = feach_for_na[:10]\n",
        "f2 = new_feach[:23]\n",
        "preds = full_predict(train_df, na_model, model, f1, f2)"
      ],
      "metadata": {
        "id": "dgPaRk0P7WIT"
      },
      "execution_count": null,
      "outputs": []
    },
    {
      "cell_type": "code",
      "source": [
        "roc_auc_score([i[0] for i in preds], train_df['default_12m'])"
      ],
      "metadata": {
        "colab": {
          "base_uri": "https://localhost:8080/"
        },
        "id": "8wL0R8HGFOgR",
        "outputId": "6584cdf6-002c-403c-cdb9-c195433c0b15"
      },
      "execution_count": 639,
      "outputs": [
        {
          "output_type": "execute_result",
          "data": {
            "text/plain": [
              "0.5829778557188771"
            ]
          },
          "metadata": {},
          "execution_count": 639
        }
      ]
    },
    {
      "cell_type": "markdown",
      "source": [
        "Предсказание теста"
      ],
      "metadata": {
        "id": "GUMNA3Dp3dgr"
      }
    },
    {
      "cell_type": "code",
      "source": [
        "final_preds = full_predict(test_df, na_model, model, f1, f2)"
      ],
      "metadata": {
        "id": "faNgvlrXxbXe"
      },
      "execution_count": null,
      "outputs": []
    },
    {
      "cell_type": "code",
      "source": [
        "final_preds = [i[0] for i in final_preds]"
      ],
      "metadata": {
        "id": "7j8m8sptIXro"
      },
      "execution_count": 645,
      "outputs": []
    },
    {
      "cell_type": "code",
      "source": [
        "len(final_preds)"
      ],
      "metadata": {
        "colab": {
          "base_uri": "https://localhost:8080/"
        },
        "id": "pqq9lzBPIpW9",
        "outputId": "cf63e455-be06-4045-a806-807396f65096"
      },
      "execution_count": 647,
      "outputs": [
        {
          "output_type": "execute_result",
          "data": {
            "text/plain": [
              "200"
            ]
          },
          "metadata": {},
          "execution_count": 647
        }
      ]
    },
    {
      "cell_type": "code",
      "source": [],
      "metadata": {
        "id": "rkdwW1u3IqlM"
      },
      "execution_count": null,
      "outputs": []
    }
  ],
  "metadata": {
    "colab": {
      "collapsed_sections": [],
      "provenance": []
    },
    "kernelspec": {
      "display_name": "Python 3",
      "language": "python",
      "name": "python3"
    },
    "language_info": {
      "codemirror_mode": {
        "name": "ipython",
        "version": 3
      },
      "file_extension": ".py",
      "mimetype": "text/x-python",
      "name": "python",
      "nbconvert_exporter": "python",
      "pygments_lexer": "ipython3",
      "version": "3.7.6"
    }
  },
  "nbformat": 4,
  "nbformat_minor": 0
}